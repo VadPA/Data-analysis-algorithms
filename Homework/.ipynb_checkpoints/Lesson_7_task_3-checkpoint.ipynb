{
 "cells": [
  {
   "cell_type": "code",
   "execution_count": 1,
   "id": "06a95c53",
   "metadata": {},
   "outputs": [],
   "source": [
    "import numpy as np\n",
    "from sklearn.model_selection import train_test_split\n",
    "from sklearn.datasets import load_iris\n",
    "import matplotlib.pyplot as plt\n",
    "from matplotlib.colors import ListedColormap"
   ]
  },
  {
   "cell_type": "code",
   "execution_count": 2,
   "id": "e6c989d8",
   "metadata": {},
   "outputs": [],
   "source": [
    "X, y = load_iris(return_X_y=True)\n",
    "\n",
    "# Для наглядности возьмем только первые два признака (всего в датасете их 4)\n",
    "X = X[:, :2]"
   ]
  },
  {
   "cell_type": "code",
   "execution_count": 3,
   "id": "c707f96a",
   "metadata": {},
   "outputs": [
    {
     "data": {
      "text/plain": [
       "((120, 2), (30, 2))"
      ]
     },
     "execution_count": 3,
     "metadata": {},
     "output_type": "execute_result"
    }
   ],
   "source": [
    "X_train, X_test, y_train, y_test = train_test_split(X, y,\n",
    "                                                    test_size=0.2,\n",
    "                                                    random_state=1,\n",
    "                                                    stratify=y)\n",
    "X_train.shape, X_test.shape"
   ]
  },
  {
   "cell_type": "code",
   "execution_count": 4,
   "id": "c0efaaa1",
   "metadata": {},
   "outputs": [],
   "source": [
    "def e_metrics(x1, x2):\n",
    "    distance = np.sum(np.square(x1 - x2))\n",
    "    return np.sqrt(distance)"
   ]
  },
  {
   "cell_type": "code",
   "execution_count": 5,
   "id": "60bff724",
   "metadata": {},
   "outputs": [],
   "source": [
    "def knn(x_train, y_train, x_test, k):\n",
    "    \n",
    "    answers = []\n",
    "    answers_weight = []\n",
    "    for x in x_test:\n",
    "        test_distances = []\n",
    "\n",
    "        for i in range(len(x_train)):\n",
    "            # расчет расстояния от классифицируемого объекта до\n",
    "            # объекта обучающей выборки\n",
    "            distance = e_metrics(x, x_train[i])\n",
    "\n",
    "            # Записываем в список значение расстояния и ответа на объекте обучающей выборки\n",
    "            test_distances.append((distance, y_train[i]))\n",
    "\n",
    "        test_distances_2 = [(e_metrics(x, xx), y_train[i]) for i, xx in enumerate(x_train)]\n",
    "        # создаем словарь со всеми возможными классами\n",
    "        classes = {class_item: 0 for class_item in set(y_train)}\n",
    "        classes_dist = {class_item: 0.0 for class_item in set(y_train)}\n",
    "\n",
    "        # Сортируем список и среди первых k элементов подсчитаем частоту появления разных классов\n",
    "        for d in sorted(test_distances)[0:k]:\n",
    "            classes[d[1]] += 1\n",
    "            classes_dist[d[1]] += 0.5 ** d[0]\n",
    "\n",
    "        # Записываем в список ответов наиболее часто встречающийся класс\n",
    "        answers.append(sorted(classes, key=classes.get)[-1])\n",
    "        answers_weight.append(sorted(classes_dist, key=classes_dist.get)[-1])\n",
    "    \n",
    "    return answers, answers_weight"
   ]
  },
  {
   "cell_type": "code",
   "execution_count": 6,
   "id": "589a2a5b",
   "metadata": {},
   "outputs": [],
   "source": [
    "def accuracy(pred, y):\n",
    "    return (sum(pred == y) / len(y))"
   ]
  },
  {
   "cell_type": "code",
   "execution_count": 7,
   "id": "1e88e5cb",
   "metadata": {},
   "outputs": [
    {
     "name": "stdout",
     "output_type": "stream",
     "text": [
      "Точность алгоритма при k = 2: 0.733\n",
      "Точность алгоритма при k = 2: 0.700\n"
     ]
    }
   ],
   "source": [
    "k = 2\n",
    "\n",
    "y_pred, y_pred_weight = knn(X_train, y_train, X_test, k)\n",
    "\n",
    "print(f'Точность алгоритма при k = {k}: {accuracy(y_pred, y_test):.3f}')\n",
    "print(f'Точность алгоритма при k = {k}: {accuracy(y_pred_weight, y_test):.3f}')"
   ]
  },
  {
   "cell_type": "code",
   "execution_count": 8,
   "id": "3a4c8d4f",
   "metadata": {},
   "outputs": [
    {
     "name": "stdout",
     "output_type": "stream",
     "text": [
      "Точность алгоритма при k = 4: 0.700\n",
      "Точность алгоритма при k = 4: 0.700\n"
     ]
    }
   ],
   "source": [
    "k = 4\n",
    "\n",
    "y_pred, y_pred_weight = knn(X_train, y_train, X_test, k)\n",
    "\n",
    "print(f'Точность алгоритма при k = {k}: {accuracy(y_pred, y_test):.3f}')\n",
    "print(f'Точность алгоритма при k = {k}: {accuracy(y_pred_weight, y_test):.3f}')"
   ]
  },
  {
   "cell_type": "code",
   "execution_count": 9,
   "id": "06f7ac4d",
   "metadata": {},
   "outputs": [
    {
     "name": "stdout",
     "output_type": "stream",
     "text": [
      "Точность алгоритма при k = 8: 0.767\n",
      "Точность алгоритма при k = 8: 0.733\n"
     ]
    }
   ],
   "source": [
    "k = 8\n",
    "\n",
    "y_pred, y_pred_weight = knn(X_train, y_train, X_test, k)\n",
    "\n",
    "print(f'Точность алгоритма при k = {k}: {accuracy(y_pred, y_test):.3f}')\n",
    "print(f'Точность алгоритма при k = {k}: {accuracy(y_pred_weight, y_test):.3f}')"
   ]
  },
  {
   "cell_type": "code",
   "execution_count": 10,
   "id": "0b546ef4",
   "metadata": {},
   "outputs": [
    {
     "name": "stdout",
     "output_type": "stream",
     "text": [
      "Точность алгоритма при k = 10: 0.767\n",
      "Точность алгоритма при k = 10: 0.767\n"
     ]
    }
   ],
   "source": [
    "k = 10\n",
    "\n",
    "y_pred, y_pred_weight = knn(X_train, y_train, X_test, k)\n",
    "\n",
    "print(f'Точность алгоритма при k = {k}: {accuracy(y_pred, y_test):.3f}')\n",
    "print(f'Точность алгоритма при k = {k}: {accuracy(y_pred_weight, y_test):.3f}')"
   ]
  },
  {
   "cell_type": "code",
   "execution_count": null,
   "id": "c5b3a7f7",
   "metadata": {},
   "outputs": [],
   "source": []
  }
 ],
 "metadata": {
  "kernelspec": {
   "display_name": "Python 3",
   "language": "python",
   "name": "python3"
  },
  "language_info": {
   "codemirror_mode": {
    "name": "ipython",
    "version": 3
   },
   "file_extension": ".py",
   "mimetype": "text/x-python",
   "name": "python",
   "nbconvert_exporter": "python",
   "pygments_lexer": "ipython3",
   "version": "3.8.8"
  }
 },
 "nbformat": 4,
 "nbformat_minor": 5
}
