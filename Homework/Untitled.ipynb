{
 "cells": [
  {
   "cell_type": "code",
   "execution_count": 1,
   "id": "99e67c68",
   "metadata": {},
   "outputs": [],
   "source": [
    "import numpy as np\n",
    "import matplotlib.pyplot as plt\n",
    "from mpl_toolkits.mplot3d.axes3d import Axes3D"
   ]
  },
  {
   "cell_type": "code",
   "execution_count": 2,
   "id": "fff57281",
   "metadata": {},
   "outputs": [],
   "source": [
    "X = np.array([[ 1,  1],\n",
    "              [ 1,  1],\n",
    "              [ 1,  2],\n",
    "              [ 1,  5],\n",
    "              [ 1,  3],\n",
    "              [ 1,  0],\n",
    "              [ 1,  5],\n",
    "              [ 1, 10],\n",
    "              [ 1,  1],\n",
    "              [ 1,  2]])"
   ]
  },
  {
   "cell_type": "code",
   "execution_count": 3,
   "id": "e59d4c38",
   "metadata": {},
   "outputs": [],
   "source": [
    "y = [45, 55, 50, 55, 60, 35, 75, 80, 50, 60]"
   ]
  },
  {
   "cell_type": "code",
   "execution_count": 4,
   "id": "c03d72cb",
   "metadata": {},
   "outputs": [],
   "source": [
    "def calc_mse(y, y_pred):\n",
    "    err = np.mean((y - y_pred)**2)\n",
    "    return err"
   ]
  },
  {
   "cell_type": "code",
   "execution_count": 5,
   "id": "b7d24a70",
   "metadata": {},
   "outputs": [
    {
     "data": {
      "text/plain": [
       "array([-0.831394  ,  2.17067229])"
      ]
     },
     "execution_count": 5,
     "metadata": {},
     "output_type": "execute_result"
    }
   ],
   "source": [
    "W = np.random.normal(size=(X.shape[1]))\n",
    "W"
   ]
  },
  {
   "cell_type": "code",
   "execution_count": 20,
   "id": "e06e68ae",
   "metadata": {},
   "outputs": [],
   "source": [
    "eta = 0.025 # величина шага"
   ]
  },
  {
   "cell_type": "code",
   "execution_count": 21,
   "id": "180b5049",
   "metadata": {},
   "outputs": [
    {
     "data": {
      "text/plain": [
       "((10, 2), (2,))"
      ]
     },
     "execution_count": 21,
     "metadata": {},
     "output_type": "execute_result"
    }
   ],
   "source": [
    "X.shape,  W.shape"
   ]
  },
  {
   "cell_type": "code",
   "execution_count": 22,
   "id": "a4d9da26",
   "metadata": {},
   "outputs": [
    {
     "data": {
      "text/plain": [
       "array([-57.83094336, -93.78271145])"
      ]
     },
     "execution_count": 22,
     "metadata": {},
     "output_type": "execute_result"
    }
   ],
   "source": [
    "n = len(y)\n",
    "dQ = 2/n * X.T @ (X @ W - y) # градиент функции ошибки\n",
    "dQ"
   ]
  },
  {
   "cell_type": "code",
   "execution_count": 23,
   "id": "1cf835dc",
   "metadata": {},
   "outputs": [
    {
     "data": {
      "text/plain": [
       "array([-1.44577358, -2.34456779])"
      ]
     },
     "execution_count": 23,
     "metadata": {},
     "output_type": "execute_result"
    }
   ],
   "source": [
    "grad = eta * dQ\n",
    "grad"
   ]
  },
  {
   "cell_type": "code",
   "execution_count": 24,
   "id": "58218068",
   "metadata": {},
   "outputs": [
    {
     "name": "stdout",
     "output_type": "stream",
     "text": [
      "previous weights [1.20138108 8.79438241]\n",
      "new weights [ 2.64715467 11.1389502 ]\n"
     ]
    }
   ],
   "source": [
    "print(f'previous weights', W)\n",
    "W = W - grad\n",
    "print(f'new weights', W)"
   ]
  },
  {
   "cell_type": "code",
   "execution_count": 25,
   "id": "d9785c2c",
   "metadata": {},
   "outputs": [
    {
     "data": {
      "image/png": "[encoded data removed]",
      "text/plain": [
       "<Figure size 432x288 with 1 Axes>"
      ]
     },
     "metadata": {
      "needs_background": "light"
     },
     "output_type": "display_data"
    }
   ],
   "source": [
    "y_pred_grad = X @ W\n",
    "plt.scatter(X[:, 1], y)\n",
    "plt.plot(X[:, 1], y_pred_grad, label='gradient descent', c='g')\n",
    "plt.legend()\n",
    "plt.show()"
   ]
  },
  {
   "cell_type": "code",
   "execution_count": 26,
   "id": "3a005c3b",
   "metadata": {},
   "outputs": [
    {
     "data": {
      "text/plain": [
       "array([ 13.78610487,  13.78610487,  24.92505506,  58.34190566,\n",
       "        36.06400526,   2.64715467,  58.34190566, 114.03665666,\n",
       "        13.78610487,  24.92505506])"
      ]
     },
     "execution_count": 26,
     "metadata": {},
     "output_type": "execute_result"
    }
   ],
   "source": [
    "y_pred_grad"
   ]
  },
  {
   "cell_type": "code",
   "execution_count": null,
   "id": "b107c6d2",
   "metadata": {},
   "outputs": [],
   "source": []
  }
 ],
 "metadata": {
  "kernelspec": {
   "display_name": "Python 3",
   "language": "python",
   "name": "python3"
  },
  "language_info": {
   "codemirror_mode": {
    "name": "ipython",
    "version": 3
   },
   "file_extension": ".py",
   "mimetype": "text/x-python",
   "name": "python",
   "nbconvert_exporter": "python",
   "pygments_lexer": "ipython3",
   "version": "3.8.8"
  }
 },
 "nbformat": 4,
 "nbformat_minor": 5
}
