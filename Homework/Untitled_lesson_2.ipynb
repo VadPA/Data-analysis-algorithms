{
 "cells": [
  {
   "cell_type": "code",
   "execution_count": 1,
   "id": "41216883",
   "metadata": {},
   "outputs": [],
   "source": [
    "import numpy as np\n",
    "import matplotlib.pyplot as plt\n",
    "from pprint import pprint "
   ]
  },
  {
   "cell_type": "markdown",
   "id": "a21d4047",
   "metadata": {},
   "source": [
    "__Задача:__ предсказание баллов ЕГЭ ученика"
   ]
  },
  {
   "cell_type": "code",
   "execution_count": 2,
   "id": "6b7da68a",
   "metadata": {},
   "outputs": [],
   "source": [
    "X = np.array([[   1,    1,  500,    1],\n",
    "              [   1,    1,  700,    1],\n",
    "              [   1,    2,  750,    2],\n",
    "              [   1,    5,  600,    1],\n",
    "              [   1,    3, 1450,    2],\n",
    "              [   1,    0,  800,    1],\n",
    "              [   1,    5, 1500,    3],\n",
    "              [   1,   10, 2000,    3],\n",
    "              [   1,    1,  450,    1],\n",
    "              [   1,    2, 1000,    2]])"
   ]
  },
  {
   "cell_type": "code",
   "execution_count": 3,
   "id": "94f0f65f",
   "metadata": {},
   "outputs": [],
   "source": [
    "y = [45, 55, 50, 55, 60, 35, 75, 80, 50, 60]"
   ]
  },
  {
   "cell_type": "code",
   "execution_count": 4,
   "id": "1be217c1",
   "metadata": {},
   "outputs": [],
   "source": [
    "def min_max_scale(X):\n",
    "    return (X - X.min()) / (X.max() - X.min())"
   ]
  },
  {
   "cell_type": "code",
   "execution_count": 5,
   "id": "6a8432a8",
   "metadata": {},
   "outputs": [],
   "source": [
    "def standard_scale(X):\n",
    "    mean = X.mean()\n",
    "    std = X.std()\n",
    "    return (X - mean) / std"
   ]
  },
  {
   "cell_type": "code",
   "execution_count": 6,
   "id": "c2ad6397",
   "metadata": {},
   "outputs": [],
   "source": [
    "def calc_mse(y, y_pred):\n",
    "    err = np.mean((y - y_pred)**2)\n",
    "    return err"
   ]
  },
  {
   "cell_type": "code",
   "execution_count": 7,
   "id": "805dc8bc",
   "metadata": {},
   "outputs": [],
   "source": [
    "def gradient_descent_reg_l2(X, y, iterations, eta=1e-4, reg=1e-8):\n",
    "    W = np.random.randn(X.shape[1])\n",
    "    n = X.shape[0]\n",
    "    \n",
    "    for i in range(0, iterations):\n",
    "        y_pred = np.dot(X, W)\n",
    "        err = calc_mse(y, y_pred)\n",
    "        \n",
    "        dQ = 2/n * X.T @ (y_pred - y) # градиент функции ошибки\n",
    "        dReg = reg * W # градиент регуляризации\n",
    "        \n",
    "        W -= eta * (dQ + dReg)\n",
    "        \n",
    "#         if i % (iterations / 10) == 0:\n",
    "#             print(f'Iter: {i}, weights: {W}, error {err}')\n",
    "    \n",
    "#     print(f'Final MSE: {calc_mse(y, np.dot(X, W))}')\n",
    "    mse = calc_mse(y, np.dot(X, W))\n",
    "    r = W.copy()\n",
    "    r = np.append(r, mse)\n",
    "    return r"
   ]
  },
  {
   "cell_type": "markdown",
   "id": "24095a0d",
   "metadata": {},
   "source": [
    "#### Нормализация данных"
   ]
  },
  {
   "cell_type": "code",
   "execution_count": 8,
   "id": "a804898e",
   "metadata": {},
   "outputs": [
    {
     "data": {
      "text/plain": [
       "array([[1.        , 0.1       , 0.03225806, 0.        ],\n",
       "       [1.        , 0.1       , 0.16129032, 0.        ],\n",
       "       [1.        , 0.2       , 0.19354839, 0.5       ],\n",
       "       [1.        , 0.5       , 0.09677419, 0.        ],\n",
       "       [1.        , 0.3       , 0.64516129, 0.5       ],\n",
       "       [1.        , 0.        , 0.22580645, 0.        ],\n",
       "       [1.        , 0.5       , 0.67741935, 1.        ],\n",
       "       [1.        , 1.        , 1.        , 1.        ],\n",
       "       [1.        , 0.1       , 0.        , 0.        ],\n",
       "       [1.        , 0.2       , 0.35483871, 0.5       ]])"
      ]
     },
     "execution_count": 8,
     "metadata": {},
     "output_type": "execute_result"
    }
   ],
   "source": [
    "X_norm = X.copy()\n",
    "X_norm = X_norm.astype(np.float64)\n",
    "X_norm[:, 1] = min_max_scale(X_norm[:, 1])\n",
    "X_norm[:, 2] = min_max_scale(X_norm[:, 2])\n",
    "X_norm[:, 3] = min_max_scale(X_norm[:, 3])\n",
    "X_norm"
   ]
  },
  {
   "cell_type": "markdown",
   "id": "1bef37d7",
   "metadata": {},
   "source": [
    "#### Стандартизация данных"
   ]
  },
  {
   "cell_type": "code",
   "execution_count": 9,
   "id": "f3a8f73d",
   "metadata": {},
   "outputs": [
    {
     "data": {
      "text/plain": [
       "array([[ 1.        , -0.70710678, -0.97958969, -0.89625816],\n",
       "       [ 1.        , -0.70710678, -0.56713087, -0.89625816],\n",
       "       [ 1.        , -0.35355339, -0.46401617,  0.38411064],\n",
       "       [ 1.        ,  0.70710678, -0.77336028, -0.89625816],\n",
       "       [ 1.        ,  0.        ,  0.97958969,  0.38411064],\n",
       "       [ 1.        , -1.06066017, -0.36090146, -0.89625816],\n",
       "       [ 1.        ,  0.70710678,  1.08270439,  1.66447944],\n",
       "       [ 1.        ,  2.47487373,  2.11385144,  1.66447944],\n",
       "       [ 1.        , -0.70710678, -1.08270439, -0.89625816],\n",
       "       [ 1.        , -0.35355339,  0.05155735,  0.38411064]])"
      ]
     },
     "execution_count": 9,
     "metadata": {},
     "output_type": "execute_result"
    }
   ],
   "source": [
    "X_st = X.copy().astype(np.float64)\n",
    "X_st[:, 1] = standard_scale(X_st[:, 1])\n",
    "X_st[:, 2] = standard_scale(X_st[:, 2])\n",
    "X_st[:, 3] = standard_scale(X_st[:, 3])\n",
    "\n",
    "X_st"
   ]
  },
  {
   "cell_type": "code",
   "execution_count": 10,
   "id": "2f4c429d",
   "metadata": {},
   "outputs": [
    {
     "data": {
      "text/plain": [
       "array([ 1.10346127, -0.43982248,  0.52537858,  1.32066409])"
      ]
     },
     "execution_count": 10,
     "metadata": {},
     "output_type": "execute_result"
    }
   ],
   "source": [
    "W = np.random.randn(X.shape[1])\n",
    "W"
   ]
  },
  {
   "cell_type": "code",
   "execution_count": 11,
   "id": "b90fe86d",
   "metadata": {},
   "outputs": [],
   "source": [
    "list_result = []\n",
    "reg_list = []\n",
    "d = 1\n",
    "for l in range(0, 10):\n",
    "    list_result.append(gradient_descent_reg_l2(X_st, y, iterations=5000, eta=1e-1, reg=10/d))\n",
    "    reg_list.append(10/d)\n",
    "    d *=10"
   ]
  },
  {
   "cell_type": "code",
   "execution_count": 12,
   "id": "353c9d9e",
   "metadata": {},
   "outputs": [],
   "source": [
    "ar_result = np.asarray(list_result)"
   ]
  },
  {
   "cell_type": "code",
   "execution_count": 13,
   "id": "546b8ab9",
   "metadata": {},
   "outputs": [
    {
     "data": {
      "image/png": "[encoded data removed]",
      "text/plain": [
       "<Figure size 1000x1000 with 4 Axes>"
      ]
     },
     "metadata": {
      "needs_background": "light"
     },
     "output_type": "display_data"
    }
   ],
   "source": [
    "# Создание figure и параметров отрисовки\n",
    "fig, ((ax1, ax2), (ax3, ax4)) = plt.subplots(2, 2, figsize=(10, 10), dpi=100)\n",
    "\n",
    "# График изменения веса w0\n",
    "ax1.semilogx(reg_list, ar_result[:, 0])\n",
    "ax1.set(title='изменение w0')\n",
    "ax1.grid()\n",
    "\n",
    "# График изменения веса w1\n",
    "ax2.semilogx(reg_list, ar_result[:, 1])\n",
    "ax2.set(title='изменение w1')\n",
    "ax2.grid()\n",
    "\n",
    "# График изменения веса w2\n",
    "ax3.semilogx(reg_list, ar_result[:, 2])\n",
    "ax3.set(title='изменение w2')\n",
    "ax3.grid()\n",
    "\n",
    "# График изменения веса w3\n",
    "ax4.semilogx(reg_list, ar_result[:, 3])\n",
    "ax4.set(title='изменение w3')\n",
    "ax4.grid()\n",
    "\n",
    "plt.show()"
   ]
  },
  {
   "cell_type": "code",
   "execution_count": 14,
   "id": "fa37891e",
   "metadata": {},
   "outputs": [
    {
     "data": {
      "image/png": "[encoded data removed]",
      "text/plain": [
       "<Figure size 600x600 with 1 Axes>"
      ]
     },
     "metadata": {
      "needs_background": "light"
     },
     "output_type": "display_data"
    }
   ],
   "source": [
    "fig, ax1 = plt.subplots(1, figsize=(6, 6), dpi=100)\n",
    "\n",
    "# График изменения MSE\n",
    "ax1.semilogx(reg_list, ar_result[:, 4])\n",
    "ax1.set(title='изменение MSE')\n",
    "ax1.grid()\n",
    "\n",
    "plt.show()"
   ]
  },
  {
   "cell_type": "markdown",
   "id": "1d6e6b86",
   "metadata": {},
   "source": [
    "#### Задание 2. Напишите функцию наподобие gradient_descent_reg_l2, но для применения L1-регуляризации."
   ]
  },
  {
   "cell_type": "code",
   "execution_count": 15,
   "id": "379b5ce2",
   "metadata": {},
   "outputs": [],
   "source": [
    "def gradient_descent_reg_l1(X, y, iterations, eta=1e-4, reg=1e-8):\n",
    "    W = np.random.randn(X.shape[1])\n",
    "    n = X.shape[0]\n",
    "    \n",
    "    for i in range(0, iterations):\n",
    "        y_pred = np.dot(X, W)\n",
    "        err = calc_mse(y, y_pred)\n",
    "        \n",
    "        dQ = 2/n * X.T @ (y_pred - y) # градиент функции ошибки\n",
    "        dReg = reg * np.sign(W) # градиент регуляризации\n",
    "        \n",
    "        W -= eta * (dQ + dReg)\n",
    "        \n",
    "        if i % (iterations / 10) == 0:\n",
    "            print(f'Iter: {i}, weights: {W}, error {err}')\n",
    "    \n",
    "    print(f'Final MSE: {calc_mse(y, np.dot(X, W))}')\n",
    "    mse = calc_mse(y, np.dot(X, W))\n",
    "    r = W.copy()\n",
    "    r = np.append(r, mse)\n",
    "    return r"
   ]
  },
  {
   "cell_type": "code",
   "execution_count": 16,
   "id": "a8b05e70",
   "metadata": {},
   "outputs": [
    {
     "name": "stdout",
     "output_type": "stream",
     "text": [
      "Iter: 0, weights: [11.12906758  2.71246713  2.09458698  1.71336247], error 3278.862175611351\n",
      "Iter: 500, weights: [51.5         3.10669619  0.55295749  2.96815945], error 80.26160481859309\n",
      "Iter: 1000, weights: [51.5         3.04945536  0.66155906  2.91189553], error 80.38005746095392\n",
      "Iter: 1500, weights: [51.5         2.99950117  0.76111165  2.85868963], error 80.47525284984988\n",
      "Iter: 2000, weights: [51.5         2.93010503  0.88800039  2.80566894], error 80.40876482426717\n",
      "Iter: 2500, weights: [51.5         2.87935303  1.01431222  2.76483779], error 79.72540878591309\n",
      "Iter: 3000, weights: [51.5         2.92109552  1.29983886  2.85176929], error 71.9703284676506\n",
      "Iter: 3500, weights: [51.5         3.34776802  1.97316869  3.33141578], error 79.7065021950447\n",
      "Iter: 4000, weights: [5.15000000e+01 3.32697125e+00 3.37867358e-02 3.28923343e+00], error 79.75691696221436\n",
      "Iter: 4500, weights: [51.5         3.29853414  0.10777911  3.2406521 ], error 79.82155907663031\n",
      "Final MSE: 79.88223239855877\n",
      "Iter: 0, weights: [10.78621275  1.86531925  2.3376485   2.55891198], error 3420.095689021638\n",
      "Iter: 500, weights: [5.60000000e+01 5.89600730e+00 2.15624722e-02 6.00148579e+00], error 25.500515126696286\n",
      "Iter: 1000, weights: [56.          5.87761598  0.06799677  5.98177666], error 25.48888859011986\n",
      "Iter: 1500, weights: [56.          5.91392766  0.18247649  6.02384357], error 25.493765056953677\n",
      "Iter: 2000, weights: [5.60000000e+01 5.89600778e+00 2.15601518e-02 6.00148770e+00], error 25.50051466784757\n",
      "Iter: 2500, weights: [56.          5.87761598  0.06799677  5.98177666], error 25.48888859010353\n",
      "Iter: 3000, weights: [56.          5.91392766  0.18247649  6.02384357], error 25.493765056953674\n",
      "Iter: 3500, weights: [5.60000000e+01 5.89600778e+00 2.15601518e-02 6.00148770e+00], error 25.50051466784757\n",
      "Iter: 4000, weights: [56.          5.87761598  0.06799677  5.98177666], error 25.48888859010353\n",
      "Iter: 4500, weights: [56.          5.91392766  0.18247649  6.02384357], error 25.493765056953674\n",
      "Final MSE: 25.50051466784757\n",
      "Iter: 0, weights: [9.64754374 1.58839926 5.13499289 1.22672244], error 3534.2150023005233\n",
      "Iter: 500, weights: [5.64500000e+01 6.17159471e+00 6.01012940e-03 6.30230696e+00], error 24.93056004342685\n",
      "Iter: 1000, weights: [5.64500000e+01 6.17159469e+00 6.01023189e-03 6.30230688e+00], error 24.930560056324264\n",
      "Iter: 1500, weights: [5.64500000e+01 6.17159469e+00 6.01023190e-03 6.30230688e+00], error 24.9305600563247\n",
      "Iter: 2000, weights: [5.64500000e+01 6.17159469e+00 6.01023190e-03 6.30230688e+00], error 24.9305600563247\n",
      "Iter: 2500, weights: [5.64500000e+01 6.17159469e+00 6.01023190e-03 6.30230688e+00], error 24.9305600563247\n",
      "Iter: 3000, weights: [5.64500000e+01 6.17159469e+00 6.01023190e-03 6.30230688e+00], error 24.9305600563247\n",
      "Iter: 3500, weights: [5.64500000e+01 6.17159469e+00 6.01023190e-03 6.30230688e+00], error 24.9305600563247\n",
      "Iter: 4000, weights: [5.64500000e+01 6.17159469e+00 6.01023190e-03 6.30230688e+00], error 24.9305600563247\n",
      "Iter: 4500, weights: [5.64500000e+01 6.17159469e+00 6.01023190e-03 6.30230688e+00], error 24.9305600563247\n",
      "Final MSE: 24.9305600563247\n",
      "Iter: 0, weights: [11.61076812  2.2853133   1.1539603   2.58444035], error 3326.637994645879\n",
      "Iter: 500, weights: [56.495       6.28284757 -0.2967587   6.52799214], error 24.905261642569716\n",
      "Iter: 1000, weights: [56.495       6.2828664  -0.29684961  6.52806717], error 24.905259754878692\n",
      "Iter: 1500, weights: [56.495       6.2828664  -0.29684961  6.52806717], error 24.905259754816104\n",
      "Iter: 2000, weights: [56.495       6.2828664  -0.29684961  6.52806717], error 24.9052597548161\n",
      "Iter: 2500, weights: [56.495       6.2828664  -0.29684961  6.52806717], error 24.9052597548161\n",
      "Iter: 3000, weights: [56.495       6.2828664  -0.29684961  6.52806717], error 24.90525975481611\n",
      "Iter: 3500, weights: [56.495       6.2828664  -0.29684961  6.52806717], error 24.9052597548161\n",
      "Iter: 4000, weights: [56.495       6.2828664  -0.29684961  6.52806717], error 24.9052597548161\n",
      "Iter: 4500, weights: [56.495       6.2828664  -0.29684961  6.52806717], error 24.90525975481611\n",
      "Final MSE: 24.9052597548161\n",
      "Iter: 0, weights: [11.06591593  1.56953762  2.21138828  2.89532349], error 3373.6294508140227\n",
      "Iter: 500, weights: [56.4995      6.30104497 -0.35031029  6.56703263], error 24.904625547142842\n",
      "Iter: 1000, weights: [56.4995      6.30107078 -0.35043492  6.5671355 ], error 24.904625285696035\n",
      "Iter: 1500, weights: [56.4995      6.30107078 -0.35043493  6.5671355 ], error 24.904625285687445\n",
      "Iter: 2000, weights: [56.4995      6.30107078 -0.35043493  6.5671355 ], error 24.904625285687462\n",
      "Iter: 2500, weights: [56.4995      6.30107078 -0.35043493  6.5671355 ], error 24.904625285687455\n",
      "Iter: 3000, weights: [56.4995      6.30107078 -0.35043493  6.5671355 ], error 24.904625285687462\n",
      "Iter: 3500, weights: [56.4995      6.30107078 -0.35043493  6.5671355 ], error 24.904625285687462\n",
      "Iter: 4000, weights: [56.4995      6.30107078 -0.35043493  6.5671355 ], error 24.904625285687455\n",
      "Iter: 4500, weights: [56.4995      6.30107078 -0.35043493  6.5671355 ], error 24.904625285687462\n",
      "Final MSE: 24.904625285687462\n",
      "Iter: 0, weights: [11.82063716  1.85588426  2.11835184  1.62360705], error 3317.9474276856477\n",
      "Iter: 500, weights: [56.49995     6.30286145 -0.35564972  6.57092369], error 24.90461897461029\n",
      "Iter: 1000, weights: [56.49995     6.30289122 -0.35579345  6.57104233], error 24.904618940997167\n",
      "Iter: 1500, weights: [56.49995     6.30289122 -0.35579346  6.57104233], error 24.90461894099617\n",
      "Iter: 2000, weights: [56.49995     6.30289122 -0.35579346  6.57104233], error 24.904618940996166\n",
      "Iter: 2500, weights: [56.49995     6.30289122 -0.35579346  6.57104233], error 24.904618940996166\n",
      "Iter: 3000, weights: [56.49995     6.30289122 -0.35579346  6.57104233], error 24.904618940996166\n",
      "Iter: 3500, weights: [56.49995     6.30289122 -0.35579346  6.57104233], error 24.904618940996166\n",
      "Iter: 4000, weights: [56.49995     6.30289122 -0.35579346  6.57104233], error 24.904618940996166\n",
      "Iter: 4500, weights: [56.49995     6.30289122 -0.35579346  6.57104233], error 24.904618940996166\n",
      "Final MSE: 24.904618940996166\n",
      "Iter: 0, weights: [11.37845891  3.53303524  1.59457481  1.53396985], error 3332.394230370873\n",
      "Iter: 500, weights: [56.499995    6.30304662 -0.3562007   6.57132686], error 24.90461888325146\n",
      "Iter: 1000, weights: [56.499995    6.30307326 -0.35632931  6.57143301], error 24.904618877549346\n",
      "Iter: 1500, weights: [56.499995    6.30307326 -0.35632931  6.57143302], error 24.904618877549247\n",
      "Iter: 2000, weights: [56.499995    6.30307326 -0.35632931  6.57143302], error 24.904618877549247\n",
      "Iter: 2500, weights: [56.499995    6.30307326 -0.35632931  6.57143302], error 24.904618877549247\n",
      "Iter: 3000, weights: [56.499995    6.30307326 -0.35632931  6.57143302], error 24.904618877549247\n",
      "Iter: 3500, weights: [56.499995    6.30307326 -0.35632931  6.57143302], error 24.904618877549247\n",
      "Iter: 4000, weights: [56.499995    6.30307326 -0.35632931  6.57143302], error 24.904618877549247\n",
      "Iter: 4500, weights: [56.499995    6.30307326 -0.35632931  6.57143302], error 24.904618877549247\n",
      "Final MSE: 24.904618877549247\n",
      "Iter: 0, weights: [10.78740608  3.08641493  1.6134761   2.80928342], error 3381.119390854722\n",
      "Iter: 500, weights: [56.4999995   6.30306858 -0.35627238  6.57138087], error 24.904618879384035\n",
      "Iter: 1000, weights: [56.4999995   6.30309147 -0.35638289  6.57147208], error 24.904618876914817\n",
      "Iter: 1500, weights: [56.4999995   6.30309147 -0.3563829   6.57147208], error 24.90461887691478\n",
      "Iter: 2000, weights: [56.4999995   6.30309147 -0.3563829   6.57147208], error 24.904618876914785\n",
      "Iter: 2500, weights: [56.4999995   6.30309147 -0.3563829   6.57147208], error 24.904618876914785\n",
      "Iter: 3000, weights: [56.4999995   6.30309147 -0.3563829   6.57147208], error 24.904618876914785\n",
      "Iter: 3500, weights: [56.4999995   6.30309147 -0.3563829   6.57147208], error 24.904618876914785\n",
      "Iter: 4000, weights: [56.4999995   6.30309147 -0.3563829   6.57147208], error 24.904618876914785\n",
      "Iter: 4500, weights: [56.4999995   6.30309147 -0.3563829   6.57147208], error 24.904618876914785\n",
      "Final MSE: 24.904618876914785\n",
      "Iter: 0, weights: [12.78609249 -0.37001601  2.94855289  2.02679339], error 3236.92954082812\n",
      "Iter: 500, weights: [56.49999995  6.30305965 -0.35622583  6.57134193], error 24.90461888178078\n",
      "Iter: 1000, weights: [56.49999995  6.30309329 -0.35638825  6.57147599], error 24.904618876908437\n",
      "Iter: 1500, weights: [56.49999995  6.30309329 -0.35638825  6.57147599], error 24.90461887690845\n",
      "Iter: 2000, weights: [56.49999995  6.30309329 -0.35638825  6.57147599], error 24.904618876908444\n",
      "Iter: 2500, weights: [56.49999995  6.30309329 -0.35638825  6.57147599], error 24.904618876908444\n",
      "Iter: 3000, weights: [56.49999995  6.30309329 -0.35638825  6.57147599], error 24.904618876908444\n"
     ]
    },
    {
     "name": "stdout",
     "output_type": "stream",
     "text": [
      "Iter: 3500, weights: [56.49999995  6.30309329 -0.35638825  6.57147599], error 24.904618876908444\n",
      "Iter: 4000, weights: [56.49999995  6.30309329 -0.35638825  6.57147599], error 24.904618876908444\n",
      "Iter: 4500, weights: [56.49999995  6.30309329 -0.35638825  6.57147599], error 24.904618876908444\n",
      "Final MSE: 24.904618876908444\n",
      "Iter: 0, weights: [11.28262299  1.03941755  2.80604752  1.47516444], error 3407.1112164981764\n",
      "Iter: 500, weights: [56.49999999  6.30305974 -0.35622596  6.57134199], error 24.904618881774375\n",
      "Iter: 1000, weights: [56.49999999  6.30309347 -0.35638878  6.57147638], error 24.904618876908394\n",
      "Iter: 1500, weights: [56.49999999  6.30309347 -0.35638879  6.57147638], error 24.904618876908394\n",
      "Iter: 2000, weights: [56.49999999  6.30309347 -0.35638879  6.57147638], error 24.904618876908373\n",
      "Iter: 2500, weights: [56.49999999  6.30309347 -0.35638879  6.57147638], error 24.904618876908373\n",
      "Iter: 3000, weights: [56.49999999  6.30309347 -0.35638879  6.57147638], error 24.904618876908373\n",
      "Iter: 3500, weights: [56.49999999  6.30309347 -0.35638879  6.57147638], error 24.904618876908373\n",
      "Iter: 4000, weights: [56.49999999  6.30309347 -0.35638879  6.57147638], error 24.904618876908373\n",
      "Iter: 4500, weights: [56.49999999  6.30309347 -0.35638879  6.57147638], error 24.904618876908373\n",
      "Final MSE: 24.904618876908373\n"
     ]
    }
   ],
   "source": [
    "list_result = []\n",
    "reg_list = []\n",
    "d = 1\n",
    "for l in range(0, 10):\n",
    "    list_result.append(gradient_descent_reg_l1(X_st, y, iterations=5000, eta=1e-1, reg=10/d))\n",
    "    reg_list.append(10/d)\n",
    "    d *=10"
   ]
  },
  {
   "cell_type": "code",
   "execution_count": 17,
   "id": "62b5e511",
   "metadata": {},
   "outputs": [],
   "source": [
    "ar_result = np.asarray(list_result)"
   ]
  },
  {
   "cell_type": "code",
   "execution_count": 18,
   "id": "b335588d",
   "metadata": {},
   "outputs": [
    {
     "data": {
      "image/png": "[encoded data removed]",
      "text/plain": [
       "<Figure size 1000x1000 with 4 Axes>"
      ]
     },
     "metadata": {
      "needs_background": "light"
     },
     "output_type": "display_data"
    }
   ],
   "source": [
    "# Создание figure и параметров отрисовки\n",
    "fig, ((ax1, ax2), (ax3, ax4)) = plt.subplots(2, 2, figsize=(10, 10), dpi=100)\n",
    "\n",
    "# График изменения веса w0\n",
    "ax1.semilogx(reg_list, ar_result[:, 0])\n",
    "ax1.set(title='изменение w0')\n",
    "ax1.grid()\n",
    "\n",
    "# График изменения веса w1\n",
    "ax2.semilogx(reg_list, ar_result[:, 1])\n",
    "ax2.set(title='изменение w1')\n",
    "ax2.grid()\n",
    "\n",
    "# График изменения веса w2\n",
    "ax3.semilogx(reg_list, ar_result[:, 2])\n",
    "ax3.set(title='изменение w2')\n",
    "ax3.grid()\n",
    "\n",
    "# График изменения веса w3\n",
    "ax4.semilogx(reg_list, ar_result[:, 3])\n",
    "ax4.set(title='изменение w3')\n",
    "ax4.grid()\n",
    "\n",
    "plt.show()"
   ]
  },
  {
   "cell_type": "code",
   "execution_count": 19,
   "id": "6caf922c",
   "metadata": {},
   "outputs": [
    {
     "data": {
      "image/png": "[encoded data removed]",
      "text/plain": [
       "<Figure size 600x600 with 1 Axes>"
      ]
     },
     "metadata": {
      "needs_background": "light"
     },
     "output_type": "display_data"
    }
   ],
   "source": [
    "fig, ax1 = plt.subplots(1, figsize=(6, 6), dpi=100)\n",
    "\n",
    "# График изменения MSE\n",
    "ax1.semilogx(reg_list, ar_result[:, 4])\n",
    "ax1.set(title='изменение MSE')\n",
    "ax1.grid()\n",
    "\n",
    "plt.show()"
   ]
  },
  {
   "cell_type": "markdown",
   "id": "73ffe471",
   "metadata": {},
   "source": [
    "### 3. Можно ли к одному и тому же признаку применить сразу и нормализацию, и стандартизацию?"
   ]
  },
  {
   "cell_type": "code",
   "execution_count": 20,
   "id": "56800a6f",
   "metadata": {},
   "outputs": [
    {
     "data": {
      "text/plain": [
       "array([[1.        , 0.1       , 0.03225806, 0.        ],\n",
       "       [1.        , 0.1       , 0.16129032, 0.        ],\n",
       "       [1.        , 0.2       , 0.19354839, 0.5       ],\n",
       "       [1.        , 0.5       , 0.09677419, 0.        ],\n",
       "       [1.        , 0.3       , 0.64516129, 0.5       ],\n",
       "       [1.        , 0.        , 0.22580645, 0.        ],\n",
       "       [1.        , 0.5       , 0.67741935, 1.        ],\n",
       "       [1.        , 1.        , 1.        , 1.        ],\n",
       "       [1.        , 0.1       , 0.        , 0.        ],\n",
       "       [1.        , 0.2       , 0.35483871, 0.5       ]])"
      ]
     },
     "execution_count": 20,
     "metadata": {},
     "output_type": "execute_result"
    }
   ],
   "source": [
    "X_norm"
   ]
  },
  {
   "cell_type": "code",
   "execution_count": 21,
   "id": "ae897f17",
   "metadata": {},
   "outputs": [
    {
     "data": {
      "text/plain": [
       "array([[ 1.        , -0.70710678, -0.97958969, -0.89625816],\n",
       "       [ 1.        , -0.70710678, -0.56713087, -0.89625816],\n",
       "       [ 1.        , -0.35355339, -0.46401617,  0.38411064],\n",
       "       [ 1.        ,  0.70710678, -0.77336028, -0.89625816],\n",
       "       [ 1.        ,  0.        ,  0.97958969,  0.38411064],\n",
       "       [ 1.        , -1.06066017, -0.36090146, -0.89625816],\n",
       "       [ 1.        ,  0.70710678,  1.08270439,  1.66447944],\n",
       "       [ 1.        ,  2.47487373,  2.11385144,  1.66447944],\n",
       "       [ 1.        , -0.70710678, -1.08270439, -0.89625816],\n",
       "       [ 1.        , -0.35355339,  0.05155735,  0.38411064]])"
      ]
     },
     "execution_count": 21,
     "metadata": {},
     "output_type": "execute_result"
    }
   ],
   "source": [
    "X_st"
   ]
  },
  {
   "cell_type": "code",
   "execution_count": 22,
   "id": "c0a3fc3e",
   "metadata": {},
   "outputs": [
    {
     "data": {
      "text/plain": [
       "array([[ 1.00000000e+00, -7.07106781e-01, -9.79589689e-01,\n",
       "        -8.96258160e-01],\n",
       "       [ 1.00000000e+00, -7.07106781e-01, -5.67130873e-01,\n",
       "        -8.96258160e-01],\n",
       "       [ 1.00000000e+00, -3.53553391e-01, -4.64016169e-01,\n",
       "         3.84110640e-01],\n",
       "       [ 1.00000000e+00,  7.07106781e-01, -7.73360281e-01,\n",
       "        -8.96258160e-01],\n",
       "       [ 1.00000000e+00, -1.96261557e-16,  9.79589689e-01,\n",
       "         3.84110640e-01],\n",
       "       [ 1.00000000e+00, -1.06066017e+00, -3.60901465e-01,\n",
       "        -8.96258160e-01],\n",
       "       [ 1.00000000e+00,  7.07106781e-01,  1.08270439e+00,\n",
       "         1.66447944e+00],\n",
       "       [ 1.00000000e+00,  2.47487373e+00,  2.11385144e+00,\n",
       "         1.66447944e+00],\n",
       "       [ 1.00000000e+00, -7.07106781e-01, -1.08270439e+00,\n",
       "        -8.96258160e-01],\n",
       "       [ 1.00000000e+00, -3.53553391e-01,  5.15573521e-02,\n",
       "         3.84110640e-01]])"
      ]
     },
     "execution_count": 22,
     "metadata": {},
     "output_type": "execute_result"
    }
   ],
   "source": [
    "X_n_st = X_norm.copy().astype(np.float64)\n",
    "X_n_st[:, 1] = standard_scale(X_n_st[:, 1])\n",
    "X_n_st[:, 2] = standard_scale(X_n_st[:, 2])\n",
    "X_n_st[:, 3] = standard_scale(X_n_st[:, 3])\n",
    "\n",
    "X_n_st"
   ]
  },
  {
   "cell_type": "code",
   "execution_count": 23,
   "id": "fce26586",
   "metadata": {},
   "outputs": [
    {
     "data": {
      "text/plain": [
       "array([-0.97958969, -0.56713087, -0.46401617, -0.77336028,  0.97958969,\n",
       "       -0.36090146,  1.08270439,  2.11385144, -1.08270439,  0.05155735])"
      ]
     },
     "execution_count": 23,
     "metadata": {},
     "output_type": "execute_result"
    }
   ],
   "source": [
    "X_n_st[:, 2]"
   ]
  },
  {
   "cell_type": "code",
   "execution_count": 24,
   "id": "02d3753d",
   "metadata": {},
   "outputs": [
    {
     "data": {
      "text/plain": [
       "array([0.03225806, 0.16129032, 0.19354839, 0.09677419, 0.64516129,\n",
       "       0.22580645, 0.67741935, 1.        , 0.        , 0.35483871])"
      ]
     },
     "execution_count": 24,
     "metadata": {},
     "output_type": "execute_result"
    }
   ],
   "source": [
    "X_norm[:, 2]"
   ]
  },
  {
   "cell_type": "code",
   "execution_count": 25,
   "id": "fd5acb33",
   "metadata": {},
   "outputs": [
    {
     "data": {
      "text/plain": [
       "-1.1310397063368783e-16"
      ]
     },
     "execution_count": 25,
     "metadata": {},
     "output_type": "execute_result"
    }
   ],
   "source": [
    "np.mean(X_n_st[:, 2])"
   ]
  },
  {
   "cell_type": "code",
   "execution_count": 26,
   "id": "94387161",
   "metadata": {},
   "outputs": [
    {
     "data": {
      "text/plain": [
       "0.33870967741935487"
      ]
     },
     "execution_count": 26,
     "metadata": {},
     "output_type": "execute_result"
    }
   ],
   "source": [
    "np.mean(X_norm[:, 2])"
   ]
  },
  {
   "cell_type": "code",
   "execution_count": 27,
   "id": "666270ac",
   "metadata": {},
   "outputs": [
    {
     "data": {
      "text/plain": [
       "0.312836707262799"
      ]
     },
     "execution_count": 27,
     "metadata": {},
     "output_type": "execute_result"
    }
   ],
   "source": [
    "np.std(X_norm[:, 2])"
   ]
  },
  {
   "cell_type": "code",
   "execution_count": 28,
   "id": "4d881b07",
   "metadata": {},
   "outputs": [
    {
     "data": {
      "text/plain": [
       "0.03225806451612903"
      ]
     },
     "execution_count": 28,
     "metadata": {},
     "output_type": "execute_result"
    }
   ],
   "source": [
    "X_norm[0, 2]"
   ]
  },
  {
   "cell_type": "code",
   "execution_count": 29,
   "id": "402e0722",
   "metadata": {},
   "outputs": [
    {
     "data": {
      "text/plain": [
       "-0.9795896894087646"
      ]
     },
     "execution_count": 29,
     "metadata": {},
     "output_type": "execute_result"
    }
   ],
   "source": [
    "(X_norm[0, 2] - np.mean(X_norm[:, 2])) / np.std(X_norm[:, 2])"
   ]
  },
  {
   "cell_type": "code",
   "execution_count": 30,
   "id": "0c9e5799",
   "metadata": {},
   "outputs": [
    {
     "data": {
      "text/plain": [
       "0.16129032258064516"
      ]
     },
     "execution_count": 30,
     "metadata": {},
     "output_type": "execute_result"
    }
   ],
   "source": [
    "X_norm[1, 2]"
   ]
  },
  {
   "cell_type": "code",
   "execution_count": 31,
   "id": "31bb9cd7",
   "metadata": {},
   "outputs": [
    {
     "data": {
      "text/plain": [
       "-0.5671308728156005"
      ]
     },
     "execution_count": 31,
     "metadata": {},
     "output_type": "execute_result"
    }
   ],
   "source": [
    "(X_norm[1, 2] - np.mean(X_norm[:, 2])) / np.std(X_norm[:, 2])"
   ]
  },
  {
   "cell_type": "code",
   "execution_count": 32,
   "id": "35162d32",
   "metadata": {},
   "outputs": [
    {
     "data": {
      "text/plain": [
       "array([[   1,    1,  500,    1],\n",
       "       [   1,    1,  700,    1],\n",
       "       [   1,    2,  750,    2],\n",
       "       [   1,    5,  600,    1],\n",
       "       [   1,    3, 1450,    2],\n",
       "       [   1,    0,  800,    1],\n",
       "       [   1,    5, 1500,    3],\n",
       "       [   1,   10, 2000,    3],\n",
       "       [   1,    1,  450,    1],\n",
       "       [   1,    2, 1000,    2]])"
      ]
     },
     "execution_count": 32,
     "metadata": {},
     "output_type": "execute_result"
    }
   ],
   "source": [
    "X"
   ]
  },
  {
   "cell_type": "code",
   "execution_count": null,
   "id": "d1f96f10",
   "metadata": {},
   "outputs": [],
   "source": []
  }
 ],
 "metadata": {
  "kernelspec": {
   "display_name": "Python 3",
   "language": "python",
   "name": "python3"
  },
  "language_info": {
   "codemirror_mode": {
    "name": "ipython",
    "version": 3
   },
   "file_extension": ".py",
   "mimetype": "text/x-python",
   "name": "python",
   "nbconvert_exporter": "python",
   "pygments_lexer": "ipython3",
   "version": "3.8.8"
  }
 },
 "nbformat": 4,
 "nbformat_minor": 5
}
