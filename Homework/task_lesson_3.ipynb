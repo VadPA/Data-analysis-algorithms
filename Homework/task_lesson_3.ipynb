{
 "cells": [
  {
   "cell_type": "code",
   "execution_count": 1,
   "id": "b571bca8",
   "metadata": {},
   "outputs": [],
   "source": [
    "import matplotlib.pyplot as plt\n",
    "import numpy as np\n",
    "import statistics as s\n",
    "\n",
    "%matplotlib inline"
   ]
  },
  {
   "cell_type": "code",
   "execution_count": 2,
   "id": "9172ec31",
   "metadata": {},
   "outputs": [],
   "source": [
    "def sigmoid(x):\n",
    "    return 1 / (1 + np.exp(-x))"
   ]
  },
  {
   "cell_type": "code",
   "execution_count": 3,
   "id": "73689e76",
   "metadata": {},
   "outputs": [],
   "source": [
    "X = np.array([ [   1,    1,  500,    1],\n",
    "               [   1,    1,  700,    1],\n",
    "               [   1,    2,  750,    2],\n",
    "               [   1,    5,  600,    1],\n",
    "               [   1,    3, 1450,    2],\n",
    "               [   1,    0,  800,    1],\n",
    "               [   1,    5, 1500,    3],\n",
    "               [   1,   10, 2000,    3],\n",
    "               [   1,    1,  450,    1],\n",
    "               [   1,    2, 1000,    2]], dtype=np.float64)\n",
    "\n",
    "y = np.array([0, 0, 1, 0, 1, 0, 1, 0, 1, 1], dtype=np.float64)"
   ]
  },
  {
   "cell_type": "code",
   "execution_count": 4,
   "id": "b3708bfd",
   "metadata": {},
   "outputs": [],
   "source": [
    "def standard_scale(x):\n",
    "    res = (x - x.mean()) / x.std()\n",
    "    return res"
   ]
  },
  {
   "cell_type": "code",
   "execution_count": 5,
   "id": "92ac18fc",
   "metadata": {},
   "outputs": [],
   "source": [
    "X_st = X.copy()\n",
    "X_st[:, 2] = standard_scale(X[:, 2])"
   ]
  },
  {
   "cell_type": "code",
   "execution_count": 6,
   "id": "561bd510",
   "metadata": {},
   "outputs": [
    {
     "data": {
      "text/plain": [
       "array([[ 1.        ,  1.        , -0.97958969,  1.        ],\n",
       "       [ 1.        ,  1.        , -0.56713087,  1.        ],\n",
       "       [ 1.        ,  2.        , -0.46401617,  2.        ],\n",
       "       [ 1.        ,  5.        , -0.77336028,  1.        ],\n",
       "       [ 1.        ,  3.        ,  0.97958969,  2.        ],\n",
       "       [ 1.        ,  0.        , -0.36090146,  1.        ],\n",
       "       [ 1.        ,  5.        ,  1.08270439,  3.        ],\n",
       "       [ 1.        , 10.        ,  2.11385144,  3.        ],\n",
       "       [ 1.        ,  1.        , -1.08270439,  1.        ],\n",
       "       [ 1.        ,  2.        ,  0.05155735,  2.        ]])"
      ]
     },
     "execution_count": 6,
     "metadata": {},
     "output_type": "execute_result"
    }
   ],
   "source": [
    "X_st"
   ]
  },
  {
   "cell_type": "markdown",
   "id": "714f012a",
   "metadata": {},
   "source": [
    "### *1. Измените функцию calc_logloss так, чтобы нули по возможности не попадали в np.log."
   ]
  },
  {
   "cell_type": "code",
   "execution_count": 7,
   "id": "7e4e1170",
   "metadata": {},
   "outputs": [],
   "source": [
    "def calc_logloss(y, y_pred):\n",
    "    list_err = []\n",
    "    for el in range(y.shape[0]):\n",
    "        if (y_pred[el] == 0) | (y_pred[el] == 1):\n",
    "            list_err.append(int(1) if y_pred[el] == 1 else int(0))\n",
    "        else:\n",
    "            err = - (y[el] * np.log(y_pred[el]) + (1.0 - y[el]) * np.log(1.0 - y_pred[el]))\n",
    "            list_err.append(err)\n",
    "    return s.mean(list_err)"
   ]
  },
  {
   "cell_type": "code",
   "execution_count": 8,
   "id": "d63251bc",
   "metadata": {},
   "outputs": [
    {
     "data": {
      "text/plain": [
       "0.1580407734867394"
      ]
     },
     "execution_count": 8,
     "metadata": {},
     "output_type": "execute_result"
    }
   ],
   "source": [
    "# Пример применения\n",
    "y1 = np.array([1, 0])\n",
    "y_pred2 = np.array([0.90, 0.19])\n",
    "calc_logloss(y1, y_pred2)"
   ]
  },
  {
   "cell_type": "code",
   "execution_count": 9,
   "id": "8667d4b5",
   "metadata": {},
   "outputs": [
    {
     "data": {
      "text/plain": [
       "0.5"
      ]
     },
     "execution_count": 9,
     "metadata": {},
     "output_type": "execute_result"
    }
   ],
   "source": [
    "# \"Плохой\" пример применения\n",
    "y1 = np.array([1, 0])\n",
    "y_pred2 = np.array([1, 0])\n",
    "calc_logloss(y1, y_pred2)"
   ]
  },
  {
   "cell_type": "code",
   "execution_count": 10,
   "id": "863ddf1a",
   "metadata": {},
   "outputs": [
    {
     "data": {
      "text/plain": [
       "0.5"
      ]
     },
     "execution_count": 10,
     "metadata": {},
     "output_type": "execute_result"
    }
   ],
   "source": [
    "# \"Плохой\" пример применения\n",
    "y1 = np.array([1, 0])\n",
    "y_pred2 = np.array([0, 1])\n",
    "calc_logloss(y1, y_pred2)"
   ]
  },
  {
   "cell_type": "code",
   "execution_count": 11,
   "id": "2583f586",
   "metadata": {},
   "outputs": [
    {
     "data": {
      "image/png": "[encoded data removed]",
      "text/plain": [
       "<Figure size 432x288 with 1 Axes>"
      ]
     },
     "metadata": {
      "needs_background": "light"
     },
     "output_type": "display_data"
    }
   ],
   "source": [
    "z = np.linspace(-10, 10, 101)\n",
    "probabilities = sigmoid(z)\n",
    "plt.plot(z, probabilities)\n",
    "plt.show()"
   ]
  },
  {
   "cell_type": "markdown",
   "id": "ffdc63d1",
   "metadata": {},
   "source": [
    "### 2. Подберите аргументы функции eval_model для логистической регрессии таким образом, чтобы log loss был минимальным."
   ]
  },
  {
   "cell_type": "code",
   "execution_count": 12,
   "id": "5c716784",
   "metadata": {},
   "outputs": [],
   "source": [
    "def eval_model(X, y, iterations, eta=1e-4):\n",
    "    np.random.seed(42)\n",
    "    W = np.random.randn(X.shape[1])\n",
    "    n = X.shape[0]\n",
    "    \n",
    "    for i in range(iterations):\n",
    "        z = np.dot(X, W)\n",
    "        y_pred = sigmoid(z)\n",
    "        err = calc_logloss(y, y_pred)\n",
    "        \n",
    "        dQ = 1/n * X.T @ (y_pred - y)\n",
    "        W -= eta * dQ\n",
    "        if (i % (iterations / 10) == 0) | (i == iterations-1) | (i == iterations-2) | (i == iterations-3):\n",
    "            print(i, W, err)\n",
    "    return W"
   ]
  },
  {
   "cell_type": "code",
   "execution_count": 13,
   "id": "99d5f9f2",
   "metadata": {},
   "outputs": [
    {
     "name": "stdout",
     "output_type": "stream",
     "text": [
      "0 [ 0.45877546 -0.2833519   0.6449505   1.46641523] 1.1785958344356262\n",
      "3800 [-6.39632155 -1.07494213 -1.02690509  5.75831715] 0.28553444562838953\n",
      "7600 [-9.31431519 -1.27156045 -1.97651427  7.99696723] 0.24696124808202868\n",
      "11400 [-11.50301318  -1.4459916   -2.65293382   9.74249899] 0.22498292097479547\n",
      "15200 [-13.36535274  -1.60285982  -3.21533836  11.24544304] 0.20899050172069716\n",
      "19000 [-15.01956322  -1.74579844  -3.70807914  12.5864211 ] 0.19635223876557398\n",
      "22800 [-16.51826612  -1.87717002  -4.1502435   13.8036266 ] 0.18597490709113576\n",
      "26600 [-17.89195317  -1.99869393  -4.55256428  14.9201902 ] 0.17725818166271984\n",
      "30400 [-19.16134631  -2.11171221  -4.92214814  15.95227954] 0.16981774119007778\n",
      "34200 [-20.34186099  -2.21731144  -5.26417019  16.91212586] 0.16338585904728659\n",
      "37997 [-21.44472402  -2.31631354  -5.58237002  17.8087163 ] 0.157770793801402\n",
      "37998 [-21.44500527  -2.31633882  -5.58245101  17.80894492] 0.15776940806135423\n",
      "37999 [-21.44528652  -2.31636411  -5.58253201  17.80917354] 0.15776802236715567\n"
     ]
    }
   ],
   "source": [
    "W = eval_model(X_st, y, iterations=38000, eta=1e-1)"
   ]
  },
  {
   "cell_type": "code",
   "execution_count": 14,
   "id": "ebb16d74",
   "metadata": {},
   "outputs": [
    {
     "name": "stdout",
     "output_type": "stream",
     "text": [
      "0 [ 0.45877546 -0.2833519   0.6449505   1.46641523] 1.1785958344356262\n",
      "2000 [-4.27828712 -0.98168834 -0.27476935  4.26319069] 0.32663122009930956\n",
      "4000 [-6.58645538 -1.0857742  -1.0912958   5.89903883] 0.28252262722907645\n",
      "6000 [-8.22400342 -1.19158043 -1.63004704  7.14381634] 0.2597485783476199\n",
      "8000 [-9.56712984 -1.29090081 -2.05579238  8.19673599] 0.2441987834679621\n",
      "10000 [-10.74518967  -1.38402525  -2.42101957   9.13461388] 0.23213874884341837\n",
      "12000 [-11.81434901  -1.471813    -2.74764002   9.99298949] 0.22216076792601983\n",
      "14000 [-12.80329637  -1.55496553  -3.0465756   10.79084931] 0.21360241717271894\n",
      "16000 [-13.72861761  -1.63401725  -3.32402433  11.53958492] 0.20609943233078729\n",
      "18000 [-14.6009146   -1.70938632  -3.58388266  12.24671891] 0.19942668434589716\n",
      "19997 [-15.42633753  -1.78130705  -3.82845481  12.91664164] 0.19344061891576642\n",
      "19998 [-15.42674042  -1.78134227  -3.82857389  12.91696877] 0.19343777118832614\n",
      "19999 [-15.4271433   -1.7813775   -3.82869298  12.9172959 ] 0.19343492360243655\n"
     ]
    }
   ],
   "source": [
    "W2 = eval_model(X_st, y, iterations=20000, eta=1e-1)"
   ]
  },
  {
   "cell_type": "markdown",
   "id": "eb605ee2",
   "metadata": {},
   "source": [
    "### 3. Создайте функцию calc_pred_proba, возвращающую предсказанную вероятность класса 1 (на вход подаются W, который уже посчитан функцией eval_model и X, на выходе - массив y_pred_proba)."
   ]
  },
  {
   "cell_type": "code",
   "execution_count": 15,
   "id": "4df1ca1a",
   "metadata": {},
   "outputs": [],
   "source": [
    "def calc_pred_proba(w, X):\n",
    "    \n",
    "    y_probability = np.squeeze(sigmoid(np.dot(X, w)))\n",
    "\n",
    "    return y_probability"
   ]
  },
  {
   "cell_type": "code",
   "execution_count": 16,
   "id": "b2927441",
   "metadata": {},
   "outputs": [
    {
     "data": {
      "text/plain": [
       "array([0.38, 0.06, 1.  , 0.  , 0.85, 0.17, 1.  , 0.05, 0.52, 1.  ])"
      ]
     },
     "execution_count": 16,
     "metadata": {},
     "output_type": "execute_result"
    }
   ],
   "source": [
    "y_prob = calc_pred_proba(W, X_st)\n",
    "y_prob.round(2)"
   ]
  },
  {
   "cell_type": "code",
   "execution_count": 17,
   "id": "658613cf",
   "metadata": {},
   "outputs": [
    {
     "data": {
      "text/plain": [
       "array([0.37, 0.11, 1.  , 0.  , 0.79, 0.24, 1.  , 0.07, 0.46, 1.  ])"
      ]
     },
     "execution_count": 17,
     "metadata": {},
     "output_type": "execute_result"
    }
   ],
   "source": [
    "y_prob2 = calc_pred_proba(W2, X_st)\n",
    "y_prob2.round(2)"
   ]
  },
  {
   "cell_type": "markdown",
   "id": "aa4a9a1d",
   "metadata": {},
   "source": [
    "### 4. Создайте функцию calc_pred, возвращающую предсказанный класс (на вход подаются W, который уже посчитан функцией eval_model и X, на выходе - массив y_pred)."
   ]
  },
  {
   "cell_type": "code",
   "execution_count": 18,
   "id": "50054756",
   "metadata": {},
   "outputs": [],
   "source": [
    "def calc_pred(w, X):\n",
    "    \n",
    "    m = X.shape[0]\n",
    "    \n",
    "    y_predicted = np.zeros(m)\n",
    "\n",
    "    A = np.squeeze(sigmoid(np.dot(X, w)))\n",
    "\n",
    "    # За порог отнесения к тому или иному классу примем вероятность 0.5\n",
    "    for i in range(A.shape[0]):\n",
    "        if (A[i] > 0.5): \n",
    "            y_predicted[i] = 1\n",
    "        elif (A[i] <= 0.5):\n",
    "            y_predicted[i] = 0\n",
    "\n",
    "    return y_predicted"
   ]
  },
  {
   "cell_type": "code",
   "execution_count": 19,
   "id": "4468335d",
   "metadata": {},
   "outputs": [
    {
     "data": {
      "text/plain": [
       "array([0., 0., 1., 0., 1., 0., 1., 0., 1., 1.])"
      ]
     },
     "execution_count": 19,
     "metadata": {},
     "output_type": "execute_result"
    }
   ],
   "source": [
    "y_pred_ = calc_pred(W, X_st)\n",
    "y_pred_"
   ]
  },
  {
   "cell_type": "code",
   "execution_count": 20,
   "id": "b4d47f85",
   "metadata": {},
   "outputs": [
    {
     "name": "stdout",
     "output_type": "stream",
     "text": [
      "Итоговый вектор весов w: [-21.45  -2.32  -5.58  17.81]\n",
      "Точность на тестовой выборке: 100.000\n"
     ]
    }
   ],
   "source": [
    "# В качестве меры точности возьмем долю правильных ответов\n",
    "test_accuracy = np.mean(y_pred_ == y) * 100.0\n",
    "\n",
    "print(f\"Итоговый вектор весов w: {W.round(2)}\")\n",
    "print(f\"Точность на тестовой выборке: {test_accuracy:.3f}\")"
   ]
  },
  {
   "cell_type": "code",
   "execution_count": 21,
   "id": "0786873c",
   "metadata": {},
   "outputs": [
    {
     "data": {
      "text/plain": [
       "array([0., 0., 1., 0., 1., 0., 1., 0., 0., 1.])"
      ]
     },
     "execution_count": 21,
     "metadata": {},
     "output_type": "execute_result"
    }
   ],
   "source": [
    "y_pred_2 = calc_pred(W2, X_st)\n",
    "y_pred_2"
   ]
  },
  {
   "cell_type": "code",
   "execution_count": 22,
   "id": "538ce18f",
   "metadata": {},
   "outputs": [
    {
     "name": "stdout",
     "output_type": "stream",
     "text": [
      "Итоговый вектор весов w: [-15.43  -1.78  -3.83  12.92]\n",
      "Точность на тестовой выборке: 90.000\n"
     ]
    }
   ],
   "source": [
    "# В качестве меры точности возьмем долю правильных ответов\n",
    "test_accuracy2 = np.mean(y_pred_2 == y) * 100.0\n",
    "\n",
    "print(f\"Итоговый вектор весов w: {W2.round(2)}\")\n",
    "print(f\"Точность на тестовой выборке: {test_accuracy2:.3f}\")"
   ]
  },
  {
   "cell_type": "code",
   "execution_count": null,
   "id": "5e8728a0",
   "metadata": {},
   "outputs": [],
   "source": []
  }
 ],
 "metadata": {
  "kernelspec": {
   "display_name": "Python 3",
   "language": "python",
   "name": "python3"
  },
  "language_info": {
   "codemirror_mode": {
    "name": "ipython",
    "version": 3
   },
   "file_extension": ".py",
   "mimetype": "text/x-python",
   "name": "python",
   "nbconvert_exporter": "python",
   "pygments_lexer": "ipython3",
   "version": "3.8.8"
  }
 },
 "nbformat": 4,
 "nbformat_minor": 5
}
