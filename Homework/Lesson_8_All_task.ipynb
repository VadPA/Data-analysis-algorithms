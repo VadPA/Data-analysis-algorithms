{
 "cells": [
  {
   "cell_type": "code",
   "execution_count": 1,
   "id": "1ab8f8e7",
   "metadata": {},
   "outputs": [],
   "source": [
    "import numpy as np\n",
    "from sklearn import datasets\n",
    "import matplotlib.pyplot as plt\n",
    "\n",
    "from sklearn.model_selection import train_test_split\n",
    "from sklearn.datasets import load_iris\n",
    "from matplotlib.colors import ListedColormap"
   ]
  },
  {
   "cell_type": "code",
   "execution_count": 2,
   "id": "872f5ffc",
   "metadata": {},
   "outputs": [],
   "source": [
    "def standard_scale(x):\n",
    "    res = (x - x.mean(axis=0)) / x.std(axis=0)\n",
    "    return res"
   ]
  },
  {
   "cell_type": "code",
   "execution_count": 3,
   "id": "400eb84f",
   "metadata": {},
   "outputs": [],
   "source": [
    "def covariance(x, y):\n",
    "    return np.sum(x * y) / (len(x) - 1)"
   ]
  },
  {
   "cell_type": "code",
   "execution_count": 4,
   "id": "f57ca86f",
   "metadata": {},
   "outputs": [
    {
     "data": {
      "text/plain": [
       "(150, 4)"
      ]
     },
     "execution_count": 4,
     "metadata": {},
     "output_type": "execute_result"
    }
   ],
   "source": [
    "X, y = load_iris(return_X_y=True)\n",
    "X.shape"
   ]
  },
  {
   "cell_type": "code",
   "execution_count": 5,
   "id": "2bc804f5",
   "metadata": {},
   "outputs": [
    {
     "data": {
      "text/plain": [
       "array([[-0.90068117,  1.01900435, -1.34022653, -1.3154443 ],\n",
       "       [-1.14301691, -0.13197948, -1.34022653, -1.3154443 ],\n",
       "       [-1.38535265,  0.32841405, -1.39706395, -1.3154443 ],\n",
       "       [-1.50652052,  0.09821729, -1.2833891 , -1.3154443 ],\n",
       "       [-1.02184904,  1.24920112, -1.34022653, -1.3154443 ],\n",
       "       [-0.53717756,  1.93979142, -1.16971425, -1.05217993],\n",
       "       [-1.50652052,  0.78880759, -1.34022653, -1.18381211],\n",
       "       [-1.02184904,  0.78880759, -1.2833891 , -1.3154443 ],\n",
       "       [-1.74885626, -0.36217625, -1.34022653, -1.3154443 ],\n",
       "       [-1.14301691,  0.09821729, -1.2833891 , -1.44707648]])"
      ]
     },
     "execution_count": 5,
     "metadata": {},
     "output_type": "execute_result"
    }
   ],
   "source": [
    "# Для начала отмасштабируем выборку\n",
    "X = X.astype(float)\n",
    "\n",
    "X = standard_scale(X)\n",
    "X[:10]"
   ]
  },
  {
   "cell_type": "code",
   "execution_count": 6,
   "id": "df4a87c9",
   "metadata": {},
   "outputs": [
    {
     "data": {
      "text/plain": [
       "((120, 4), (30, 4))"
      ]
     },
     "execution_count": 6,
     "metadata": {},
     "output_type": "execute_result"
    }
   ],
   "source": [
    "X_train, X_test, y_train, y_test = train_test_split(X, y,\n",
    "                                                    test_size=0.2,\n",
    "                                                    random_state=1,\n",
    "                                                    stratify=y)\n",
    "X_train.shape, X_test.shape"
   ]
  },
  {
   "cell_type": "code",
   "execution_count": 7,
   "id": "0ddd4614",
   "metadata": {},
   "outputs": [
    {
     "data": {
      "image/png": "[encoded data removed]",
      "text/plain": [
       "<Figure size 504x504 with 1 Axes>"
      ]
     },
     "metadata": {
      "needs_background": "light"
     },
     "output_type": "display_data"
    }
   ],
   "source": [
    "cmap = ListedColormap(['red', 'green', 'blue'])\n",
    "plt.figure(figsize=(7, 7))\n",
    "plt.scatter(X[:, 0], X[:, 2], c=y, cmap=cmap);"
   ]
  },
  {
   "cell_type": "markdown",
   "id": "64e28b6e",
   "metadata": {},
   "source": [
    "## 1. Проведем классификацию методом k-ближайших соседей с \"голосованием\" по расстоянию  до классифицируемого объекта"
   ]
  },
  {
   "cell_type": "code",
   "execution_count": 8,
   "id": "151c3485",
   "metadata": {},
   "outputs": [],
   "source": [
    "def e_metrics(x1, x2):\n",
    "    distance = np.sum(np.square(x1 - x2))\n",
    "    return np.sqrt(distance)"
   ]
  },
  {
   "cell_type": "code",
   "execution_count": 9,
   "id": "ea1e4095",
   "metadata": {},
   "outputs": [],
   "source": [
    "def knn(x_train, y_train, x_test, k):\n",
    "    \n",
    "    answers_weight = []\n",
    "    for x in x_test:\n",
    "        test_distances = []\n",
    "\n",
    "        test_distances = [(e_metrics(x, xx), y_train[i]) for i, xx in enumerate(x_train)]\n",
    "\n",
    "        # создаем словарь со всеми возможными классами\n",
    "        classes_dist = {class_item: 0.0 for class_item in set(y_train)}\n",
    "\n",
    "        # Сортируем список и среди первых k элементов подсчитаем расстояние\n",
    "        for d in sorted(test_distances)[0:k]:\n",
    "            classes_dist[d[1]] += 0.5 ** d[0]\n",
    "\n",
    "        # Записываем в список ответов наиболее часто встречающийся класс\n",
    "        answers_weight.append(sorted(classes_dist, key=classes_dist.get)[-1])\n",
    "    \n",
    "    return answers_weight"
   ]
  },
  {
   "cell_type": "code",
   "execution_count": 10,
   "id": "87e83b38",
   "metadata": {},
   "outputs": [],
   "source": [
    "def accuracy(pred, y):\n",
    "    return (sum(pred == y) / len(y))"
   ]
  },
  {
   "cell_type": "code",
   "execution_count": 11,
   "id": "27ee75cf",
   "metadata": {},
   "outputs": [
    {
     "name": "stdout",
     "output_type": "stream",
     "text": [
      "Точность алгоритма при k = 5: 0.967\n"
     ]
    }
   ],
   "source": [
    "k = 5\n",
    "\n",
    "y_pred_weight = knn(X_train, y_train, X_test, k)\n",
    "\n",
    "print(f'Точность алгоритма при k = {k}: {accuracy(y_pred_weight, y_test):.3f}')"
   ]
  },
  {
   "cell_type": "markdown",
   "id": "419fe9f2",
   "metadata": {},
   "source": [
    "## Метод главных компонент (PCA)"
   ]
  },
  {
   "cell_type": "code",
   "execution_count": 12,
   "id": "76cd6577",
   "metadata": {},
   "outputs": [
    {
     "name": "stdout",
     "output_type": "stream",
     "text": [
      "Ковариация 0 признака (дисперсия 0 признака) 1.0067114093959733\n",
      "Ковариация 1 признака (дисперсия 1 признака) 1.0067114093959741\n",
      "Ковариация 2 признака (дисперсия 2 признака) 1.006711409395973\n",
      "Ковариация 3 признака (дисперсия 3 признака) 1.0067114093959733\n",
      "Ковариация 0 и 1 признака -0.11835884308691484\n",
      "Ковариация 0 и 2 признака 0.8776044723690434\n",
      "Ковариация 0 и 3 признака 0.8234306640317876\n",
      "Ковариация 1 и 2 признака -0.43131554127235555\n",
      "Ковариация 1 и 3 признака -0.36858315356017374\n",
      "Ковариация 2 и 3 признака 0.9693276155061705\n"
     ]
    },
    {
     "data": {
      "text/plain": [
       "array([[ 1.00671141, -0.11835884,  0.87760447,  0.82343066],\n",
       "       [-0.11835884,  1.00671141, -0.43131554, -0.36858315],\n",
       "       [ 0.87760447, -0.43131554,  1.00671141,  0.96932762],\n",
       "       [ 0.82343066, -0.36858315,  0.96932762,  1.00671141]])"
      ]
     },
     "execution_count": 12,
     "metadata": {},
     "output_type": "execute_result"
    }
   ],
   "source": [
    "print(f'Ковариация 0 признака (дисперсия 0 признака) {covariance(X[:, 0], X[:, 0])}')\n",
    "print(f'Ковариация 1 признака (дисперсия 1 признака) {covariance(X[:, 1], X[:, 1])}')\n",
    "print(f'Ковариация 2 признака (дисперсия 2 признака) {covariance(X[:, 2], X[:, 2])}')\n",
    "print(f'Ковариация 3 признака (дисперсия 3 признака) {covariance(X[:, 3], X[:, 3])}')\n",
    "print(f'Ковариация 0 и 1 признака {covariance(X[:, 0], X[:, 1])}')\n",
    "print(f'Ковариация 0 и 2 признака {covariance(X[:, 0], X[:, 2])}')\n",
    "print(f'Ковариация 0 и 3 признака {covariance(X[:, 0], X[:, 3])}')\n",
    "print(f'Ковариация 1 и 2 признака {covariance(X[:, 1], X[:, 2])}')\n",
    "print(f'Ковариация 1 и 3 признака {covariance(X[:, 1], X[:, 3])}')\n",
    "print(f'Ковариация 2 и 3 признака {covariance(X[:, 2], X[:, 3])}')\n",
    "cov = np.cov(X.T)\n",
    "cov"
   ]
  },
  {
   "cell_type": "code",
   "execution_count": 13,
   "id": "bfbfa273",
   "metadata": {},
   "outputs": [
    {
     "data": {
      "text/plain": [
       "array([[ 1.        , -0.11756978,  0.87175378,  0.81794113],\n",
       "       [-0.11756978,  1.        , -0.4284401 , -0.36612593],\n",
       "       [ 0.87175378, -0.4284401 ,  1.        ,  0.96286543],\n",
       "       [ 0.81794113, -0.36612593,  0.96286543,  1.        ]])"
      ]
     },
     "execution_count": 13,
     "metadata": {},
     "output_type": "execute_result"
    }
   ],
   "source": [
    "(X.T @ X) / len(X)"
   ]
  },
  {
   "cell_type": "code",
   "execution_count": 14,
   "id": "816f8e40",
   "metadata": {},
   "outputs": [
    {
     "data": {
      "text/plain": [
       "array([437.77467248, 137.10457072,  22.01353134,   3.10722546])"
      ]
     },
     "metadata": {},
     "output_type": "display_data"
    },
    {
     "data": {
      "text/plain": [
       "array([[ 0.52106591, -0.37741762, -0.71956635,  0.26128628],\n",
       "       [-0.26934744, -0.92329566,  0.24438178, -0.12350962],\n",
       "       [ 0.5804131 , -0.02449161,  0.14212637, -0.80144925],\n",
       "       [ 0.56485654, -0.06694199,  0.63427274,  0.52359713]])"
      ]
     },
     "metadata": {},
     "output_type": "display_data"
    }
   ],
   "source": [
    "eig_val, eig_vecs = np.linalg.eig(X.T @ X)\n",
    "display(eig_val, eig_vecs)"
   ]
  },
  {
   "cell_type": "code",
   "execution_count": 15,
   "id": "9a621414",
   "metadata": {},
   "outputs": [
    {
     "data": {
      "text/plain": [
       "(array([ 0.52106591, -0.26934744,  0.5804131 ,  0.56485654]),\n",
       " array([-0.37741762, -0.92329566, -0.02449161, -0.06694199]),\n",
       " array([-0.71956635,  0.24438178,  0.14212637,  0.63427274]),\n",
       " array([ 0.26128628, -0.12350962, -0.80144925,  0.52359713]))"
      ]
     },
     "execution_count": 15,
     "metadata": {},
     "output_type": "execute_result"
    }
   ],
   "source": [
    "vec0 = eig_vecs[:, 0]\n",
    "vec1 = eig_vecs[:, 1]\n",
    "vec2 = eig_vecs[:, 2]\n",
    "vec3 = eig_vecs[:, 3]\n",
    "vec0, vec1, vec2, vec3"
   ]
  },
  {
   "cell_type": "code",
   "execution_count": 16,
   "id": "fa135dda",
   "metadata": {},
   "outputs": [
    {
     "data": {
      "text/plain": [
       "[72.96244541329986, 22.850761786701774, 3.66892188928288, 0.5178709107154819]"
      ]
     },
     "execution_count": 16,
     "metadata": {},
     "output_type": "execute_result"
    }
   ],
   "source": [
    "eig_sum = sum(eig_val)\n",
    "[(i / eig_sum) * 100 for i in sorted(eig_val, reverse=True)]"
   ]
  },
  {
   "cell_type": "markdown",
   "id": "3cb86843",
   "metadata": {},
   "source": [
    "### При двух компонентах"
   ]
  },
  {
   "cell_type": "code",
   "execution_count": 17,
   "id": "6932fe48",
   "metadata": {},
   "outputs": [
    {
     "data": {
      "text/plain": [
       "array([[ 0.52106591, -0.37741762],\n",
       "       [-0.26934744, -0.92329566],\n",
       "       [ 0.5804131 , -0.02449161],\n",
       "       [ 0.56485654, -0.06694199]])"
      ]
     },
     "execution_count": 17,
     "metadata": {},
     "output_type": "execute_result"
    }
   ],
   "source": [
    "v2 = np.column_stack((vec0, vec1))\n",
    "v2"
   ]
  },
  {
   "cell_type": "code",
   "execution_count": 18,
   "id": "b1b98918",
   "metadata": {},
   "outputs": [
    {
     "data": {
      "text/plain": [
       "array([[-2.26470281, -0.4800266 ],\n",
       "       [-2.08096115,  0.67413356],\n",
       "       [-2.36422905,  0.34190802],\n",
       "       [-2.29938422,  0.59739451],\n",
       "       [-2.38984217, -0.64683538],\n",
       "       [-2.07563095, -1.48917752],\n",
       "       [-2.44402884, -0.0476442 ],\n",
       "       [-2.23284716, -0.22314807],\n",
       "       [-2.33464048,  1.11532768],\n",
       "       [-2.18432817,  0.46901356]])"
      ]
     },
     "execution_count": 18,
     "metadata": {},
     "output_type": "execute_result"
    }
   ],
   "source": [
    "Z2 = np.dot(X, v2)\n",
    "Z2[:10]"
   ]
  },
  {
   "cell_type": "code",
   "execution_count": 19,
   "id": "68806d76",
   "metadata": {},
   "outputs": [
    {
     "data": {
      "text/plain": [
       "array([[-2.26470281,  0.4800266 ],\n",
       "       [-2.08096115, -0.67413356],\n",
       "       [-2.36422905, -0.34190802],\n",
       "       [-2.29938422, -0.59739451],\n",
       "       [-2.38984217,  0.64683538]])"
      ]
     },
     "execution_count": 19,
     "metadata": {},
     "output_type": "execute_result"
    }
   ],
   "source": [
    "from sklearn.decomposition import PCA\n",
    "pca = PCA(n_components=2)\n",
    "X_reduced = pca.fit_transform(X)\n",
    "X_reduced[:5]"
   ]
  },
  {
   "cell_type": "code",
   "execution_count": 20,
   "id": "eccdc17f",
   "metadata": {},
   "outputs": [
    {
     "data": {
      "text/plain": [
       "(150, 2)"
      ]
     },
     "execution_count": 20,
     "metadata": {},
     "output_type": "execute_result"
    }
   ],
   "source": [
    "Z2.shape"
   ]
  },
  {
   "cell_type": "code",
   "execution_count": 21,
   "id": "ebc8f0da",
   "metadata": {},
   "outputs": [
    {
     "data": {
      "text/plain": [
       "((120, 2), (30, 2))"
      ]
     },
     "execution_count": 21,
     "metadata": {},
     "output_type": "execute_result"
    }
   ],
   "source": [
    "X_train, X_test, y_train, y_test = train_test_split(Z2, y,\n",
    "                                                    test_size=0.2,\n",
    "                                                    random_state=1,\n",
    "                                                    stratify=y)\n",
    "X_train.shape, X_test.shape"
   ]
  },
  {
   "cell_type": "code",
   "execution_count": 22,
   "id": "85f497de",
   "metadata": {},
   "outputs": [
    {
     "name": "stdout",
     "output_type": "stream",
     "text": [
      "Точность алгоритма при k = 5: 0.867\n"
     ]
    }
   ],
   "source": [
    "k = 5\n",
    "\n",
    "y_pred_weight = knn(X_train, y_train, X_test, k)\n",
    "\n",
    "print(f'Точность алгоритма при k = {k}: {accuracy(y_pred_weight, y_test):.3f}')"
   ]
  },
  {
   "cell_type": "markdown",
   "id": "724fc15e",
   "metadata": {},
   "source": [
    "### При трех компонентах"
   ]
  },
  {
   "cell_type": "code",
   "execution_count": 23,
   "id": "41c2e99b",
   "metadata": {},
   "outputs": [
    {
     "data": {
      "text/plain": [
       "array([[ 0.52106591, -0.37741762, -0.71956635],\n",
       "       [-0.26934744, -0.92329566,  0.24438178],\n",
       "       [ 0.5804131 , -0.02449161,  0.14212637],\n",
       "       [ 0.56485654, -0.06694199,  0.63427274]])"
      ]
     },
     "execution_count": 23,
     "metadata": {},
     "output_type": "execute_result"
    }
   ],
   "source": [
    "v3 = np.column_stack((vec0, vec1, vec2))\n",
    "v3"
   ]
  },
  {
   "cell_type": "code",
   "execution_count": 24,
   "id": "33faf956",
   "metadata": {},
   "outputs": [
    {
     "data": {
      "text/plain": [
       "array([[-2.26470281, -0.4800266 , -0.12770602],\n",
       "       [-2.08096115,  0.67413356, -0.23460885],\n",
       "       [-2.36422905,  0.34190802,  0.04420148],\n",
       "       [-2.29938422,  0.59739451,  0.09129011],\n",
       "       [-2.38984217, -0.64683538,  0.0157382 ]])"
      ]
     },
     "execution_count": 24,
     "metadata": {},
     "output_type": "execute_result"
    }
   ],
   "source": [
    "Z3 = np.dot(X, v3)\n",
    "Z3[:5]"
   ]
  },
  {
   "cell_type": "code",
   "execution_count": 25,
   "id": "b34c9d65",
   "metadata": {},
   "outputs": [
    {
     "data": {
      "text/plain": [
       "((120, 3), (30, 3))"
      ]
     },
     "execution_count": 25,
     "metadata": {},
     "output_type": "execute_result"
    }
   ],
   "source": [
    "X_train, X_test, y_train, y_test = train_test_split(Z3, y,\n",
    "                                                    test_size=0.2,\n",
    "                                                    random_state=1,\n",
    "                                                    stratify=y)\n",
    "X_train.shape, X_test.shape"
   ]
  },
  {
   "cell_type": "code",
   "execution_count": 26,
   "id": "dc9e93b1",
   "metadata": {},
   "outputs": [
    {
     "name": "stdout",
     "output_type": "stream",
     "text": [
      "Точность алгоритма при k = 5: 0.967\n"
     ]
    }
   ],
   "source": [
    "k = 5\n",
    "\n",
    "y_pred_weight = knn(X_train, y_train, X_test, k)\n",
    "\n",
    "print(f'Точность алгоритма при k = {k}: {accuracy(y_pred_weight, y_test):.3f}')"
   ]
  },
  {
   "cell_type": "markdown",
   "id": "870af36d",
   "metadata": {},
   "source": [
    "### При четырех компонентах"
   ]
  },
  {
   "cell_type": "code",
   "execution_count": 27,
   "id": "d45aaf92",
   "metadata": {},
   "outputs": [
    {
     "data": {
      "text/plain": [
       "array([[ 0.52106591, -0.37741762, -0.71956635,  0.26128628],\n",
       "       [-0.26934744, -0.92329566,  0.24438178, -0.12350962],\n",
       "       [ 0.5804131 , -0.02449161,  0.14212637, -0.80144925],\n",
       "       [ 0.56485654, -0.06694199,  0.63427274,  0.52359713]])"
      ]
     },
     "execution_count": 27,
     "metadata": {},
     "output_type": "execute_result"
    }
   ],
   "source": [
    "v4 = np.column_stack((vec0, vec1, vec2, vec3))\n",
    "v4"
   ]
  },
  {
   "cell_type": "code",
   "execution_count": 28,
   "id": "15eea435",
   "metadata": {},
   "outputs": [
    {
     "data": {
      "text/plain": [
       "array([[-2.26470281, -0.4800266 , -0.12770602,  0.0241682 ],\n",
       "       [-2.08096115,  0.67413356, -0.23460885,  0.10300677],\n",
       "       [-2.36422905,  0.34190802,  0.04420148,  0.02837705],\n",
       "       [-2.29938422,  0.59739451,  0.09129011, -0.06595556],\n",
       "       [-2.38984217, -0.64683538,  0.0157382 , -0.03592281]])"
      ]
     },
     "execution_count": 28,
     "metadata": {},
     "output_type": "execute_result"
    }
   ],
   "source": [
    "Z4 = np.dot(X, v4)\n",
    "Z4[:5]"
   ]
  },
  {
   "cell_type": "code",
   "execution_count": 29,
   "id": "7519d648",
   "metadata": {},
   "outputs": [
    {
     "data": {
      "text/plain": [
       "((120, 4), (30, 4))"
      ]
     },
     "execution_count": 29,
     "metadata": {},
     "output_type": "execute_result"
    }
   ],
   "source": [
    "X_train, X_test, y_train, y_test = train_test_split(Z4, y,\n",
    "                                                    test_size=0.2,\n",
    "                                                    random_state=1,\n",
    "                                                    stratify=y)\n",
    "X_train.shape, X_test.shape"
   ]
  },
  {
   "cell_type": "code",
   "execution_count": 30,
   "id": "6bf71744",
   "metadata": {},
   "outputs": [
    {
     "name": "stdout",
     "output_type": "stream",
     "text": [
      "Точность алгоритма при k = 5: 0.967\n"
     ]
    }
   ],
   "source": [
    "k = 5\n",
    "\n",
    "y_pred_weight = knn(X_train, y_train, X_test, k)\n",
    "\n",
    "print(f'Точность алгоритма при k = {k}: {accuracy(y_pred_weight, y_test):.3f}')"
   ]
  },
  {
   "cell_type": "markdown",
   "id": "fbaed4e0",
   "metadata": {},
   "source": [
    "### При одной компоненте"
   ]
  },
  {
   "cell_type": "code",
   "execution_count": 31,
   "id": "95a9d91f",
   "metadata": {},
   "outputs": [
    {
     "data": {
      "text/plain": [
       "array([ 0.52106591, -0.26934744,  0.5804131 ,  0.56485654])"
      ]
     },
     "execution_count": 31,
     "metadata": {},
     "output_type": "execute_result"
    }
   ],
   "source": [
    "v1 = vec0\n",
    "v1"
   ]
  },
  {
   "cell_type": "code",
   "execution_count": 32,
   "id": "0d52841a",
   "metadata": {},
   "outputs": [
    {
     "data": {
      "text/plain": [
       "array([-2.26470281, -2.08096115, -2.36422905, -2.29938422, -2.38984217,\n",
       "       -2.07563095, -2.44402884, -2.23284716, -2.33464048, -2.18432817,\n",
       "       -2.1663101 , -2.32613087, -2.2184509 , -2.6331007 , -2.1987406 ,\n",
       "       -2.26221453, -2.2075877 , -2.19034951, -1.898572  , -2.34336905,\n",
       "       -1.914323  , -2.20701284, -2.7743447 , -1.81866953, -2.22716331,\n",
       "       -1.95184633, -2.05115137, -2.16857717, -2.13956345, -2.26526149,\n",
       "       -2.14012214, -1.83159477, -2.61494794, -2.44617739, -2.10997488,\n",
       "       -2.2078089 , -2.04514621, -2.52733191, -2.42963258, -2.16971071,\n",
       "       -2.28647514, -1.85812246, -2.5536384 , -1.96444768, -2.13705901,\n",
       "       -2.0697443 , -2.38473317, -2.39437631, -2.22944655, -2.20383344,\n",
       "        1.10178118,  0.73133743,  1.24097932,  0.40748306,  1.0754747 ,\n",
       "        0.38868734,  0.74652974, -0.48732274,  0.92790164,  0.01142619,\n",
       "       -0.11019628,  0.44069345,  0.56210831,  0.71956189, -0.0333547 ,\n",
       "        0.87540719,  0.35025167,  0.15881005,  1.22509363,  0.1649179 ,\n",
       "        0.73768265,  0.47628719,  1.2341781 ,  0.6328582 ,  0.70266118,\n",
       "        0.87427365,  1.25650912,  1.35840512,  0.66480037, -0.04025861,\n",
       "        0.13079518,  0.02345269,  0.24153827,  1.06109461,  0.22397877,\n",
       "        0.42913912,  1.04872805,  1.04453138,  0.06958832,  0.28347724,\n",
       "        0.27907778,  0.62456979,  0.33653037, -0.36218338,  0.28858624,\n",
       "        0.09136066,  0.22771687,  0.57638829, -0.44766702,  0.25673059,\n",
       "        1.84456887,  1.15788161,  2.20526679,  1.44015066,  1.86781222,\n",
       "        2.75187334,  0.36701769,  2.30243944,  2.00668647,  2.25977735,\n",
       "        1.36417549,  1.60267867,  1.8839007 ,  1.2601151 ,  1.4676452 ,\n",
       "        1.59007732,  1.47143146,  2.42632899,  3.31069558,  1.26376667,\n",
       "        2.0377163 ,  0.97798073,  2.89765149,  1.33323218,  1.7007339 ,\n",
       "        1.95432671,  1.17510363,  1.02095055,  1.78834992,  1.86364755,\n",
       "        2.43595373,  2.30492772,  1.86270322,  1.11414774,  1.2024733 ,\n",
       "        2.79877045,  1.57625591,  1.3462921 ,  0.92482492,  1.85204505,\n",
       "        2.01481043,  1.90178409,  1.15788161,  2.04055823,  1.9981471 ,\n",
       "        1.87050329,  1.56458048,  1.5211705 ,  1.37278779,  0.96065603])"
      ]
     },
     "execution_count": 32,
     "metadata": {},
     "output_type": "execute_result"
    }
   ],
   "source": [
    "Z1 = np.dot(X, v1)\n",
    "Z1"
   ]
  },
  {
   "cell_type": "code",
   "execution_count": 33,
   "id": "5c5acf6f",
   "metadata": {},
   "outputs": [
    {
     "data": {
      "text/plain": [
       "((120,), (30,))"
      ]
     },
     "execution_count": 33,
     "metadata": {},
     "output_type": "execute_result"
    }
   ],
   "source": [
    "X_train, X_test, y_train, y_test = train_test_split(Z1, y,\n",
    "                                                    test_size=0.2,\n",
    "                                                    random_state=1,\n",
    "                                                    stratify=y)\n",
    "X_train.shape, X_test.shape"
   ]
  },
  {
   "cell_type": "code",
   "execution_count": 34,
   "id": "dded83b9",
   "metadata": {},
   "outputs": [
    {
     "name": "stdout",
     "output_type": "stream",
     "text": [
      "Точность алгоритма при k = 6: 0.867\n"
     ]
    }
   ],
   "source": [
    "k = 6\n",
    "\n",
    "y_pred_weight = knn(X_train, y_train, X_test, k)\n",
    "\n",
    "print(f'Точность алгоритма при k = {k}: {accuracy(y_pred_weight, y_test):.3f}')"
   ]
  },
  {
   "cell_type": "code",
   "execution_count": 35,
   "id": "c64f8b9a",
   "metadata": {},
   "outputs": [
    {
     "data": {
      "text/plain": [
       "array([[437.8,  -0. ,   0. ,  -0. ],\n",
       "       [ -0. , 137.1,   0. ,  -0. ],\n",
       "       [  0. ,   0. ,  22. ,  -0. ],\n",
       "       [ -0. ,  -0. ,  -0. ,   3.1]])"
      ]
     },
     "execution_count": 35,
     "metadata": {},
     "output_type": "execute_result"
    }
   ],
   "source": [
    "np.around(Z4.T @ Z4, decimals = 1)"
   ]
  },
  {
   "cell_type": "code",
   "execution_count": 36,
   "id": "f61628dc",
   "metadata": {},
   "outputs": [
    {
     "data": {
      "text/plain": [
       "array([[437.8,  -0. ,   0. ],\n",
       "       [ -0. , 137.1,   0. ],\n",
       "       [  0. ,   0. ,  22. ]])"
      ]
     },
     "execution_count": 36,
     "metadata": {},
     "output_type": "execute_result"
    }
   ],
   "source": [
    "np.around(Z3.T @ Z3, decimals = 1)"
   ]
  },
  {
   "cell_type": "code",
   "execution_count": 38,
   "id": "e0dda314",
   "metadata": {},
   "outputs": [
    {
     "data": {
      "text/plain": [
       "array([[437.8,  -0. ],\n",
       "       [ -0. , 137.1]])"
      ]
     },
     "execution_count": 38,
     "metadata": {},
     "output_type": "execute_result"
    }
   ],
   "source": [
    "np.around(Z2.T @ Z2, decimals = 1)"
   ]
  },
  {
   "cell_type": "code",
   "execution_count": 39,
   "id": "416fcdc8",
   "metadata": {},
   "outputs": [
    {
     "data": {
      "text/plain": [
       "437.8"
      ]
     },
     "execution_count": 39,
     "metadata": {},
     "output_type": "execute_result"
    }
   ],
   "source": [
    "np.around(Z1.T @ Z1, decimals = 1)"
   ]
  },
  {
   "cell_type": "markdown",
   "id": "1455b5f1",
   "metadata": {},
   "source": [
    "### При одной и двух компонентах точность 0.867, при трех и четырех компонентах точность достигается как и при классификации k-ближайшими соседями и равна 0.967."
   ]
  },
  {
   "cell_type": "markdown",
   "id": "f8f17f49",
   "metadata": {},
   "source": [
    "### 2.Нахождение собственных значений и собственных векторов с использованием numpy.linalg.svd()"
   ]
  },
  {
   "cell_type": "code",
   "execution_count": 40,
   "id": "e1e064e4",
   "metadata": {},
   "outputs": [
    {
     "data": {
      "text/plain": [
       "(150, 4)"
      ]
     },
     "execution_count": 40,
     "metadata": {},
     "output_type": "execute_result"
    }
   ],
   "source": [
    "X.shape"
   ]
  },
  {
   "cell_type": "code",
   "execution_count": 41,
   "id": "0ebf3a6f",
   "metadata": {},
   "outputs": [],
   "source": [
    "u, s, vh = np.linalg.svd(X, full_matrices=True)"
   ]
  },
  {
   "cell_type": "code",
   "execution_count": 42,
   "id": "998bfc62",
   "metadata": {},
   "outputs": [
    {
     "data": {
      "text/plain": [
       "array([[-0.11, -0.04,  0.03, ...,  0.05,  0.  ,  0.  ],\n",
       "       [-0.1 ,  0.06,  0.05, ...,  0.01,  0.08,  0.01],\n",
       "       [-0.11,  0.03, -0.01, ...,  0.03,  0.18,  0.15],\n",
       "       ...,\n",
       "       [ 0.07, -0.02, -0.04, ...,  0.99, -0.01, -0.  ],\n",
       "       [ 0.07, -0.09, -0.2 , ..., -0.01,  0.95, -0.02],\n",
       "       [ 0.05,  0.  , -0.11, ..., -0.  , -0.02,  0.98]])"
      ]
     },
     "execution_count": 42,
     "metadata": {},
     "output_type": "execute_result"
    }
   ],
   "source": [
    "np.around(u, decimals = 2)"
   ]
  },
  {
   "cell_type": "code",
   "execution_count": 43,
   "id": "20484b1e",
   "metadata": {},
   "outputs": [
    {
     "data": {
      "text/plain": [
       "array([20.92306556, 11.7091661 ,  4.69185798,  1.76273239])"
      ]
     },
     "execution_count": 43,
     "metadata": {},
     "output_type": "execute_result"
    }
   ],
   "source": [
    "s"
   ]
  },
  {
   "cell_type": "code",
   "execution_count": 44,
   "id": "0cf473c0",
   "metadata": {},
   "outputs": [
    {
     "data": {
      "text/plain": [
       "array([[ 0.52106591, -0.26934744,  0.5804131 ,  0.56485654],\n",
       "       [-0.37741762, -0.92329566, -0.02449161, -0.06694199],\n",
       "       [ 0.71956635, -0.24438178, -0.14212637, -0.63427274],\n",
       "       [ 0.26128628, -0.12350962, -0.80144925,  0.52359713]])"
      ]
     },
     "execution_count": 44,
     "metadata": {},
     "output_type": "execute_result"
    }
   ],
   "source": [
    "vh"
   ]
  },
  {
   "cell_type": "markdown",
   "id": "4bbefdbd",
   "metadata": {},
   "source": [
    "### При одной компоненте"
   ]
  },
  {
   "cell_type": "code",
   "execution_count": 45,
   "id": "936c4183",
   "metadata": {},
   "outputs": [
    {
     "data": {
      "text/plain": [
       "array([ 0.52106591, -0.26934744,  0.5804131 ,  0.56485654])"
      ]
     },
     "execution_count": 45,
     "metadata": {},
     "output_type": "execute_result"
    }
   ],
   "source": [
    "v1 = vh[0]\n",
    "v1"
   ]
  },
  {
   "cell_type": "code",
   "execution_count": 46,
   "id": "2e692615",
   "metadata": {},
   "outputs": [
    {
     "data": {
      "text/plain": [
       "array([-2.26470281, -2.08096115, -2.36422905, -2.29938422, -2.38984217,\n",
       "       -2.07563095, -2.44402884, -2.23284716, -2.33464048, -2.18432817,\n",
       "       -2.1663101 , -2.32613087, -2.2184509 , -2.6331007 , -2.1987406 ,\n",
       "       -2.26221453, -2.2075877 , -2.19034951, -1.898572  , -2.34336905,\n",
       "       -1.914323  , -2.20701284, -2.7743447 , -1.81866953, -2.22716331,\n",
       "       -1.95184633, -2.05115137, -2.16857717, -2.13956345, -2.26526149,\n",
       "       -2.14012214, -1.83159477, -2.61494794, -2.44617739, -2.10997488,\n",
       "       -2.2078089 , -2.04514621, -2.52733191, -2.42963258, -2.16971071,\n",
       "       -2.28647514, -1.85812246, -2.5536384 , -1.96444768, -2.13705901,\n",
       "       -2.0697443 , -2.38473317, -2.39437631, -2.22944655, -2.20383344,\n",
       "        1.10178118,  0.73133743,  1.24097932,  0.40748306,  1.0754747 ,\n",
       "        0.38868734,  0.74652974, -0.48732274,  0.92790164,  0.01142619,\n",
       "       -0.11019628,  0.44069345,  0.56210831,  0.71956189, -0.0333547 ,\n",
       "        0.87540719,  0.35025167,  0.15881005,  1.22509363,  0.1649179 ,\n",
       "        0.73768265,  0.47628719,  1.2341781 ,  0.6328582 ,  0.70266118,\n",
       "        0.87427365,  1.25650912,  1.35840512,  0.66480037, -0.04025861,\n",
       "        0.13079518,  0.02345269,  0.24153827,  1.06109461,  0.22397877,\n",
       "        0.42913912,  1.04872805,  1.04453138,  0.06958832,  0.28347724,\n",
       "        0.27907778,  0.62456979,  0.33653037, -0.36218338,  0.28858624,\n",
       "        0.09136066,  0.22771687,  0.57638829, -0.44766702,  0.25673059,\n",
       "        1.84456887,  1.15788161,  2.20526679,  1.44015066,  1.86781222,\n",
       "        2.75187334,  0.36701769,  2.30243944,  2.00668647,  2.25977735,\n",
       "        1.36417549,  1.60267867,  1.8839007 ,  1.2601151 ,  1.4676452 ,\n",
       "        1.59007732,  1.47143146,  2.42632899,  3.31069558,  1.26376667,\n",
       "        2.0377163 ,  0.97798073,  2.89765149,  1.33323218,  1.7007339 ,\n",
       "        1.95432671,  1.17510363,  1.02095055,  1.78834992,  1.86364755,\n",
       "        2.43595373,  2.30492772,  1.86270322,  1.11414774,  1.2024733 ,\n",
       "        2.79877045,  1.57625591,  1.3462921 ,  0.92482492,  1.85204505,\n",
       "        2.01481043,  1.90178409,  1.15788161,  2.04055823,  1.9981471 ,\n",
       "        1.87050329,  1.56458048,  1.5211705 ,  1.37278779,  0.96065603])"
      ]
     },
     "execution_count": 46,
     "metadata": {},
     "output_type": "execute_result"
    }
   ],
   "source": [
    "Z1 = np.dot(X, v1)\n",
    "Z1"
   ]
  },
  {
   "cell_type": "code",
   "execution_count": 47,
   "id": "a5bcc1e6",
   "metadata": {},
   "outputs": [
    {
     "data": {
      "text/plain": [
       "((120,), (30,))"
      ]
     },
     "execution_count": 47,
     "metadata": {},
     "output_type": "execute_result"
    }
   ],
   "source": [
    "X_train, X_test, y_train, y_test = train_test_split(Z1, y,\n",
    "                                                    test_size=0.2,\n",
    "                                                    random_state=1,\n",
    "                                                    stratify=y)\n",
    "X_train.shape, X_test.shape"
   ]
  },
  {
   "cell_type": "code",
   "execution_count": 48,
   "id": "6c32fe64",
   "metadata": {},
   "outputs": [
    {
     "name": "stdout",
     "output_type": "stream",
     "text": [
      "Точность алгоритма при k = 5: 0.867\n"
     ]
    }
   ],
   "source": [
    "k = 5\n",
    "\n",
    "y_pred_weight = knn(X_train, y_train, X_test, k)\n",
    "\n",
    "print(f'Точность алгоритма при k = {k}: {accuracy(y_pred_weight, y_test):.3f}')"
   ]
  },
  {
   "cell_type": "markdown",
   "id": "c60f3f1b",
   "metadata": {},
   "source": [
    "### При двух компонентах"
   ]
  },
  {
   "cell_type": "code",
   "execution_count": 49,
   "id": "ea2bec14",
   "metadata": {},
   "outputs": [
    {
     "data": {
      "text/plain": [
       "array([[ 0.52106591, -0.37741762],\n",
       "       [-0.26934744, -0.92329566],\n",
       "       [ 0.5804131 , -0.02449161],\n",
       "       [ 0.56485654, -0.06694199]])"
      ]
     },
     "execution_count": 49,
     "metadata": {},
     "output_type": "execute_result"
    }
   ],
   "source": [
    "v2 = np.column_stack((vh[0], vh[1]))\n",
    "v2"
   ]
  },
  {
   "cell_type": "code",
   "execution_count": 50,
   "id": "b0fab42b",
   "metadata": {},
   "outputs": [
    {
     "data": {
      "text/plain": [
       "array([[-2.26470281, -0.4800266 ],\n",
       "       [-2.08096115,  0.67413356],\n",
       "       [-2.36422905,  0.34190802],\n",
       "       [-2.29938422,  0.59739451],\n",
       "       [-2.38984217, -0.64683538]])"
      ]
     },
     "execution_count": 50,
     "metadata": {},
     "output_type": "execute_result"
    }
   ],
   "source": [
    "Z2 = np.dot(X, v2)\n",
    "Z2[:5]"
   ]
  },
  {
   "cell_type": "code",
   "execution_count": 51,
   "id": "86dcb8f3",
   "metadata": {},
   "outputs": [
    {
     "data": {
      "text/plain": [
       "((120, 2), (30, 2))"
      ]
     },
     "execution_count": 51,
     "metadata": {},
     "output_type": "execute_result"
    }
   ],
   "source": [
    "X_train, X_test, y_train, y_test = train_test_split(Z2, y,\n",
    "                                                    test_size=0.2,\n",
    "                                                    random_state=1,\n",
    "                                                    stratify=y)\n",
    "X_train.shape, X_test.shape"
   ]
  },
  {
   "cell_type": "code",
   "execution_count": 52,
   "id": "f5f43ed5",
   "metadata": {},
   "outputs": [
    {
     "name": "stdout",
     "output_type": "stream",
     "text": [
      "Точность алгоритма при k = 5: 0.867\n"
     ]
    }
   ],
   "source": [
    "k = 5\n",
    "\n",
    "y_pred_weight = knn(X_train, y_train, X_test, k)\n",
    "\n",
    "print(f'Точность алгоритма при k = {k}: {accuracy(y_pred_weight, y_test):.3f}')"
   ]
  },
  {
   "cell_type": "markdown",
   "id": "c6e7d7c1",
   "metadata": {},
   "source": [
    "### При трех компонентах"
   ]
  },
  {
   "cell_type": "code",
   "execution_count": 53,
   "id": "2d82923f",
   "metadata": {},
   "outputs": [
    {
     "data": {
      "text/plain": [
       "array([[ 0.52106591, -0.37741762,  0.71956635],\n",
       "       [-0.26934744, -0.92329566, -0.24438178],\n",
       "       [ 0.5804131 , -0.02449161, -0.14212637],\n",
       "       [ 0.56485654, -0.06694199, -0.63427274]])"
      ]
     },
     "execution_count": 53,
     "metadata": {},
     "output_type": "execute_result"
    }
   ],
   "source": [
    "v3 = np.column_stack((vh[0], vh[1], vh[2]))\n",
    "v3"
   ]
  },
  {
   "cell_type": "code",
   "execution_count": 54,
   "id": "3900363a",
   "metadata": {},
   "outputs": [
    {
     "data": {
      "text/plain": [
       "array([[-2.26470281, -0.4800266 ,  0.12770602],\n",
       "       [-2.08096115,  0.67413356,  0.23460885],\n",
       "       [-2.36422905,  0.34190802, -0.04420148],\n",
       "       [-2.29938422,  0.59739451, -0.09129011],\n",
       "       [-2.38984217, -0.64683538, -0.0157382 ],\n",
       "       [-2.07563095, -1.48917752, -0.02696829],\n",
       "       [-2.44402884, -0.0476442 , -0.3354704 ],\n",
       "       [-2.23284716, -0.22314807,  0.0886955 ],\n",
       "       [-2.33464048,  1.11532768, -0.14507686],\n",
       "       [-2.18432817,  0.46901356,  0.25376557]])"
      ]
     },
     "execution_count": 54,
     "metadata": {},
     "output_type": "execute_result"
    }
   ],
   "source": [
    "Z3 = np.dot(X, v3)\n",
    "Z3[:10]"
   ]
  },
  {
   "cell_type": "code",
   "execution_count": 55,
   "id": "0d90c42d",
   "metadata": {},
   "outputs": [
    {
     "data": {
      "text/plain": [
       "((120, 3), (30, 3))"
      ]
     },
     "execution_count": 55,
     "metadata": {},
     "output_type": "execute_result"
    }
   ],
   "source": [
    "X_train, X_test, y_train, y_test = train_test_split(Z3, y,\n",
    "                                                    test_size=0.2,\n",
    "                                                    random_state=1,\n",
    "                                                    stratify=y)\n",
    "X_train.shape, X_test.shape"
   ]
  },
  {
   "cell_type": "code",
   "execution_count": 56,
   "id": "bc30ffd3",
   "metadata": {},
   "outputs": [
    {
     "name": "stdout",
     "output_type": "stream",
     "text": [
      "Точность алгоритма при k = 5: 0.967\n"
     ]
    }
   ],
   "source": [
    "k = 5\n",
    "\n",
    "y_pred_weight = knn(X_train, y_train, X_test, k)\n",
    "\n",
    "print(f'Точность алгоритма при k = {k}: {accuracy(y_pred_weight, y_test):.3f}')"
   ]
  },
  {
   "cell_type": "markdown",
   "id": "5a599f27",
   "metadata": {},
   "source": [
    "### При четырех компонентах"
   ]
  },
  {
   "cell_type": "code",
   "execution_count": 57,
   "id": "46af59fa",
   "metadata": {},
   "outputs": [
    {
     "data": {
      "text/plain": [
       "array([[ 0.52106591, -0.37741762,  0.71956635,  0.26128628],\n",
       "       [-0.26934744, -0.92329566, -0.24438178, -0.12350962],\n",
       "       [ 0.5804131 , -0.02449161, -0.14212637, -0.80144925],\n",
       "       [ 0.56485654, -0.06694199, -0.63427274,  0.52359713]])"
      ]
     },
     "execution_count": 57,
     "metadata": {},
     "output_type": "execute_result"
    }
   ],
   "source": [
    "v4 = np.column_stack((vh[0], vh[1], vh[2], vh[3]))\n",
    "v4"
   ]
  },
  {
   "cell_type": "code",
   "execution_count": 58,
   "id": "b033fa5f",
   "metadata": {},
   "outputs": [
    {
     "data": {
      "text/plain": [
       "array([[-2.26470281, -0.4800266 ,  0.12770602,  0.0241682 ],\n",
       "       [-2.08096115,  0.67413356,  0.23460885,  0.10300677],\n",
       "       [-2.36422905,  0.34190802, -0.04420148,  0.02837705],\n",
       "       [-2.29938422,  0.59739451, -0.09129011, -0.06595556],\n",
       "       [-2.38984217, -0.64683538, -0.0157382 , -0.03592281],\n",
       "       [-2.07563095, -1.48917752, -0.02696829,  0.00660818],\n",
       "       [-2.44402884, -0.0476442 , -0.3354704 , -0.03677556],\n",
       "       [-2.23284716, -0.22314807,  0.0886955 , -0.0246121 ],\n",
       "       [-2.33464048,  1.11532768, -0.14507686, -0.02685922],\n",
       "       [-2.18432817,  0.46901356,  0.25376557, -0.03989929]])"
      ]
     },
     "execution_count": 58,
     "metadata": {},
     "output_type": "execute_result"
    }
   ],
   "source": [
    "Z4 = np.dot(X, v4)\n",
    "Z4[:10]"
   ]
  },
  {
   "cell_type": "code",
   "execution_count": 59,
   "id": "a2fc0e1e",
   "metadata": {},
   "outputs": [
    {
     "data": {
      "text/plain": [
       "((120, 4), (30, 4))"
      ]
     },
     "execution_count": 59,
     "metadata": {},
     "output_type": "execute_result"
    }
   ],
   "source": [
    "X_train, X_test, y_train, y_test = train_test_split(Z4, y,\n",
    "                                                    test_size=0.2,\n",
    "                                                    random_state=1,\n",
    "                                                    stratify=y)\n",
    "X_train.shape, X_test.shape"
   ]
  },
  {
   "cell_type": "code",
   "execution_count": 60,
   "id": "46e55a7c",
   "metadata": {},
   "outputs": [
    {
     "name": "stdout",
     "output_type": "stream",
     "text": [
      "Точность алгоритма при k = 5: 0.967\n"
     ]
    }
   ],
   "source": [
    "k = 5\n",
    "\n",
    "y_pred_weight = knn(X_train, y_train, X_test, k)\n",
    "\n",
    "print(f'Точность алгоритма при k = {k}: {accuracy(y_pred_weight, y_test):.3f}')"
   ]
  },
  {
   "cell_type": "code",
   "execution_count": 61,
   "id": "fe1a9a86",
   "metadata": {},
   "outputs": [
    {
     "data": {
      "image/png": "[encoded data removed]",
      "text/plain": [
       "<Figure size 432x288 with 1 Axes>"
      ]
     },
     "metadata": {
      "needs_background": "light"
     },
     "output_type": "display_data"
    }
   ],
   "source": [
    "iris = datasets.load_iris()\n",
    "plt.figure()\n",
    "y = iris.target\n",
    "for c, i in zip(\"rgb\", [0, 1, 2]):\n",
    "    plt.scatter(Z2[y == i, 0], Z2[y == i, 1], c=c)\n",
    "plt.xlabel('Главная компонента 1')\n",
    "plt.ylabel('Главная компонента 2')\n",
    "plt.title('PCA датасета IRIS')\n",
    "plt.show()"
   ]
  },
  {
   "cell_type": "code",
   "execution_count": 62,
   "id": "4e78c821",
   "metadata": {},
   "outputs": [
    {
     "name": "stdout",
     "output_type": "stream",
     "text": [
      "Собственные значения и собственные векторы в порядке убывания:\n",
      "(437.774672479799, array([ 0.52106591, -0.26934744,  0.5804131 ,  0.56485654]))\n",
      "(137.1045707202106, array([-0.37741762, -0.92329566, -0.02449161, -0.06694199]))\n",
      "(22.013531335697273, array([-0.71956635,  0.24438178,  0.14212637,  0.63427274]))\n",
      "(3.1072254642928896, array([ 0.26128628, -0.12350962, -0.80144925,  0.52359713]))\n"
     ]
    }
   ],
   "source": [
    "# Найдем собственные векторы и собственные значения\n",
    " \n",
    "covariance_matrix = X.T @ X\n",
    "\n",
    "eig_values, eig_vectors = np.linalg.eig(covariance_matrix)\n",
    "\n",
    "# сформируем список кортежей (собственное значение, собственный вектор)\n",
    "eig_pairs = [(np.abs(eig_values[i]), eig_vectors[:, i]) for i in range(len(eig_values))]\n",
    "\n",
    "# и отсортируем список по убыванию собственных значений\n",
    "eig_pairs.sort(key=lambda x: x[0], reverse=True)\n",
    "\n",
    "print('Собственные значения и собственные векторы в порядке убывания:')\n",
    "for i in eig_pairs:\n",
    "    print(i)"
   ]
  },
  {
   "cell_type": "code",
   "execution_count": 63,
   "id": "7309bf1f",
   "metadata": {},
   "outputs": [
    {
     "name": "stdout",
     "output_type": "stream",
     "text": [
      "Доля дисперсии, описываемая каждой из компонент \n",
      "[72.96244541329986, 22.850761786701774, 3.66892188928288, 0.5178709107154819]\n",
      "Кумулятивная доля дисперсии по компонентам \n",
      "[ 72.96244541  95.8132072   99.48212909 100.        ]\n"
     ]
    }
   ],
   "source": [
    "eig_sum = sum(eig_values)\n",
    "var_exp = [(i / eig_sum) * 100 for i in sorted(eig_values, reverse=True)]\n",
    "cum_var_exp = np.cumsum(var_exp)\n",
    "print(f'Доля дисперсии, описываемая каждой из компонент \\n{var_exp}')\n",
    "\n",
    "# а теперь оценим кумулятивную (то есть накапливаемую) дисперсию при учитывании каждой из компонент\n",
    "print(f'Кумулятивная доля дисперсии по компонентам \\n{cum_var_exp}')"
   ]
  },
  {
   "cell_type": "code",
   "execution_count": null,
   "id": "8b4132fa",
   "metadata": {},
   "outputs": [],
   "source": []
  }
 ],
 "metadata": {
  "kernelspec": {
   "display_name": "Python 3",
   "language": "python",
   "name": "python3"
  },
  "language_info": {
   "codemirror_mode": {
    "name": "ipython",
    "version": 3
   },
   "file_extension": ".py",
   "mimetype": "text/x-python",
   "name": "python",
   "nbconvert_exporter": "python",
   "pygments_lexer": "ipython3",
   "version": "3.8.8"
  }
 },
 "nbformat": 4,
 "nbformat_minor": 5
}
